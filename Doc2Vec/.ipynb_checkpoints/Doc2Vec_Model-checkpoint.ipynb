{
 "cells": [
  {
   "cell_type": "markdown",
   "metadata": {},
   "source": [
    "The purpose of this notebook is to build a Doc2Vec model."
   ]
  },
  {
   "cell_type": "code",
   "execution_count": 1,
   "metadata": {},
   "outputs": [],
   "source": [
    "# Import libraries\n",
    "\n",
    "import pandas as pd\n",
    "import gensim"
   ]
  },
  {
   "cell_type": "markdown",
   "metadata": {},
   "source": [
    "## 1. Model Building"
   ]
  },
  {
   "cell_type": "code",
   "execution_count": 24,
   "metadata": {},
   "outputs": [
    {
     "name": "stdout",
     "output_type": "stream",
     "text": [
      "(4416, 10)\n"
     ]
    },
    {
     "data": {
      "text/html": [
       "<div>\n",
       "<style scoped>\n",
       "    .dataframe tbody tr th:only-of-type {\n",
       "        vertical-align: middle;\n",
       "    }\n",
       "\n",
       "    .dataframe tbody tr th {\n",
       "        vertical-align: top;\n",
       "    }\n",
       "\n",
       "    .dataframe thead th {\n",
       "        text-align: right;\n",
       "    }\n",
       "</style>\n",
       "<table border=\"1\" class=\"dataframe\">\n",
       "  <thead>\n",
       "    <tr style=\"text-align: right;\">\n",
       "      <th></th>\n",
       "      <th>courseType</th>\n",
       "      <th>description</th>\n",
       "      <th>domainTypes</th>\n",
       "      <th>id</th>\n",
       "      <th>slug</th>\n",
       "      <th>specializations</th>\n",
       "      <th>workload</th>\n",
       "      <th>primaryLanguages</th>\n",
       "      <th>certificates</th>\n",
       "      <th>name</th>\n",
       "    </tr>\n",
       "  </thead>\n",
       "  <tbody>\n",
       "    <tr>\n",
       "      <th>0</th>\n",
       "      <td>v2.ondemand</td>\n",
       "      <td>Gamification is the application of game elemen...</td>\n",
       "      <td>[{'subdomainId': 'design-and-product', 'domain...</td>\n",
       "      <td>69Bku0KoEeWZtA4u62x6lQ</td>\n",
       "      <td>gamification</td>\n",
       "      <td>[]</td>\n",
       "      <td>4-8 hours/week</td>\n",
       "      <td>['en']</td>\n",
       "      <td>['VerifiedCert']</td>\n",
       "      <td>Gamification</td>\n",
       "    </tr>\n",
       "    <tr>\n",
       "      <th>1</th>\n",
       "      <td>v2.ondemand</td>\n",
       "      <td>This course will cover the steps used in weigh...</td>\n",
       "      <td>[{'subdomainId': 'data-analysis', 'domainId': ...</td>\n",
       "      <td>0HiU7Oe4EeWTAQ4yevf_oQ</td>\n",
       "      <td>missing-data</td>\n",
       "      <td>[]</td>\n",
       "      <td>4 weeks of study, 1-2 hours/week</td>\n",
       "      <td>['en']</td>\n",
       "      <td>['VerifiedCert', 'Specialization']</td>\n",
       "      <td>Dealing With Missing Data</td>\n",
       "    </tr>\n",
       "  </tbody>\n",
       "</table>\n",
       "</div>"
      ],
      "text/plain": [
       "    courseType                                        description  \\\n",
       "0  v2.ondemand  Gamification is the application of game elemen...   \n",
       "1  v2.ondemand  This course will cover the steps used in weigh...   \n",
       "\n",
       "                                         domainTypes                      id  \\\n",
       "0  [{'subdomainId': 'design-and-product', 'domain...  69Bku0KoEeWZtA4u62x6lQ   \n",
       "1  [{'subdomainId': 'data-analysis', 'domainId': ...  0HiU7Oe4EeWTAQ4yevf_oQ   \n",
       "\n",
       "           slug specializations                          workload  \\\n",
       "0  gamification              []                    4-8 hours/week   \n",
       "1  missing-data              []  4 weeks of study, 1-2 hours/week   \n",
       "\n",
       "  primaryLanguages                        certificates  \\\n",
       "0           ['en']                    ['VerifiedCert']   \n",
       "1           ['en']  ['VerifiedCert', 'Specialization']   \n",
       "\n",
       "                        name  \n",
       "0               Gamification  \n",
       "1  Dealing With Missing Data  "
      ]
     },
     "execution_count": 24,
     "metadata": {},
     "output_type": "execute_result"
    }
   ],
   "source": [
    "# Read in the course data\n",
    "\n",
    "course_df = pd.read_csv('../Data/Course_Data/Coursera_Catalog.csv')\n",
    "print(df.shape)\n",
    "df.head(2)"
   ]
  },
  {
   "cell_type": "code",
   "execution_count": 26,
   "metadata": {},
   "outputs": [],
   "source": [
    "# Preprocess the course data as a training corpus\n",
    "\n",
    "# Convert the course descriptions to a list\n",
    "course_descriptions = df['description'].to_list()\n",
    "\n",
    "# Define a function for basic preprocessing:\n",
    "# tokenize, lowercase, de-punctuation, document tagging\n",
    "def read_corpus(corpus):\n",
    "    for i, doc in enumerate(corpus):\n",
    "        tokens = gensim.utils.simple_preprocess(doc)\n",
    "        yield gensim.models.doc2vec.TaggedDocument(tokens, [i])\n",
    "\n",
    "# Run the function on the list of course descriptions\n",
    "train_corpus = list(read_corpus(course_descriptions))"
   ]
  },
  {
   "cell_type": "code",
   "execution_count": 28,
   "metadata": {},
   "outputs": [
    {
     "name": "stdout",
     "output_type": "stream",
     "text": [
      "TaggedDocument(['gamification', 'is', 'the', 'application', 'of', 'game', 'elements', 'and', 'digital', 'game', 'design', 'techniques', 'to', 'non', 'game', 'problems', 'such', 'as', 'business', 'and', 'social', 'impact', 'challenges', 'this', 'course', 'will', 'teach', 'you', 'the', 'mechanisms', 'of', 'gamification', 'why', 'it', 'has', 'such', 'tremendous', 'potential', 'and', 'how', 'to', 'use', 'it', 'effectively', 'for', 'additional', 'information', 'on', 'the', 'concepts', 'described', 'in', 'the', 'course', 'you', 'can', 'purchase', 'professor', 'werbach', 'book', 'for', 'the', 'win', 'how', 'game', 'thinking', 'can', 'revolutionize', 'your', 'business', 'in', 'print', 'or', 'ebook', 'format', 'in', 'several', 'languages'], [0])\n"
     ]
    }
   ],
   "source": [
    "# Examine the first document in the corpus (tag at end)\n",
    "\n",
    "print(train_corpus[0])"
   ]
  },
  {
   "cell_type": "code",
   "execution_count": 29,
   "metadata": {},
   "outputs": [],
   "source": [
    "# Build a model\n",
    "\n",
    "# Instantiate the model\n",
    "model = gensim.models.doc2vec.Doc2Vec(vector_size=50, \n",
    "                                      min_count=2,\n",
    "                                      epochs=20)\n",
    "\n",
    "# Create a vocabulary for the model\n",
    "model.build_vocab(train_corpus)\n",
    "\n",
    "# Train the model on the corpus\n",
    "model.train(train_corpus,\n",
    "            total_examples=model.corpus_count,\n",
    "            epochs=model.epochs)"
   ]
  },
  {
   "cell_type": "code",
   "execution_count": 31,
   "metadata": {},
   "outputs": [
    {
     "data": {
      "text/plain": [
       "[(0, 0.904577374458313),\n",
       " (731, 0.5876209735870361),\n",
       " (1615, 0.5753642320632935),\n",
       " (661, 0.5732396841049194),\n",
       " (3514, 0.5497420430183411),\n",
       " (2684, 0.543770968914032),\n",
       " (2340, 0.5378788709640503),\n",
       " (2627, 0.5375131964683533),\n",
       " (3661, 0.5327433943748474),\n",
       " (2036, 0.532387375831604)]"
      ]
     },
     "execution_count": 31,
     "metadata": {},
     "output_type": "execute_result"
    }
   ],
   "source": [
    "# Assess the model\n",
    "\n",
    "# Infer a vector for a document in the training corpus itself.\n",
    "vector = model.infer_vector(train_corpus[0].words)\n",
    "\n",
    "# Find which documents in the training corpus it is most similar to.\n",
    "sims = model.docvecs.most_similar([vector])\n",
    "sims"
   ]
  },
  {
   "cell_type": "markdown",
   "metadata": {},
   "source": [
    "### Analysis: \n",
    "The model successfully finds that the queried document is most similar to itself in the training corpus. But a similarity score of only .905 still seems low for two exactly identical documents."
   ]
  },
  {
   "cell_type": "code",
   "execution_count": 35,
   "metadata": {},
   "outputs": [
    {
     "data": {
      "text/plain": [
       "TaggedDocument(words=['gamification', 'is', 'the', 'application', 'of', 'game', 'elements', 'and', 'digital', 'game', 'design', 'techniques', 'to', 'non', 'game', 'problems', 'such', 'as', 'business', 'and', 'social', 'impact', 'challenges', 'this', 'course', 'will', 'teach', 'you', 'the', 'mechanisms', 'of', 'gamification', 'why', 'it', 'has', 'such', 'tremendous', 'potential', 'and', 'how', 'to', 'use', 'it', 'effectively', 'for', 'additional', 'information', 'on', 'the', 'concepts', 'described', 'in', 'the', 'course', 'you', 'can', 'purchase', 'professor', 'werbach', 'book', 'for', 'the', 'win', 'how', 'game', 'thinking', 'can', 'revolutionize', 'your', 'business', 'in', 'print', 'or', 'ebook', 'format', 'in', 'several', 'languages'], tags=[0])"
      ]
     },
     "execution_count": 35,
     "metadata": {},
     "output_type": "execute_result"
    }
   ],
   "source": [
    "# The text of the document in the corpus\n",
    "train_corpus[0]"
   ]
  },
  {
   "cell_type": "code",
   "execution_count": 33,
   "metadata": {},
   "outputs": [
    {
     "data": {
      "text/plain": [
       "array([ 0.11690026, -0.93670326,  0.41097265,  0.10937741, -0.96882236,\n",
       "        0.20679808,  0.424446  , -0.09070673,  0.00299759,  0.01188672,\n",
       "        0.26091468,  0.51995707,  0.04820716,  0.00663995, -0.2585928 ,\n",
       "        0.62834185, -0.14286816,  0.0248737 ,  0.07393045, -0.2732914 ,\n",
       "       -0.01604197,  0.36418656,  0.00162364, -0.33485684, -0.27331105,\n",
       "       -0.2906291 ,  0.618427  ,  0.16012691, -0.19389565,  0.18030727,\n",
       "       -0.6522208 ,  0.6255185 , -0.36164117, -0.9744435 , -0.11492941,\n",
       "        0.08528145,  0.11748454, -0.22892228,  0.36189422,  0.5233691 ,\n",
       "       -0.2823789 , -0.15077887,  0.76997656,  0.4974916 , -0.17532884,\n",
       "        0.09894331,  0.97362083, -0.67234313, -0.70708084,  0.29495043],\n",
       "      dtype=float32)"
      ]
     },
     "execution_count": 33,
     "metadata": {},
     "output_type": "execute_result"
    }
   ],
   "source": [
    "# The vector of the document in the query\n",
    "vector"
   ]
  },
  {
   "cell_type": "code",
   "execution_count": 34,
   "metadata": {},
   "outputs": [
    {
     "data": {
      "text/plain": [
       "array([ 0.00911336, -0.4198732 ,  0.3058561 , -0.08523002, -0.5323205 ,\n",
       "        0.05346673,  0.43908954,  0.12736237,  0.11748328, -0.03223978,\n",
       "        0.30294204,  0.43887916, -0.1793193 , -0.19363931, -0.21842101,\n",
       "        0.50964105, -0.09694078, -0.03430551,  0.18276013, -0.21690501,\n",
       "        0.04544578,  0.27415705, -0.11679361, -0.25259763,  0.0895469 ,\n",
       "       -0.38938457,  0.36528096,  0.13421895, -0.1035319 ,  0.03812784,\n",
       "       -0.3657621 ,  0.43080994, -0.28503206, -0.79827994, -0.04070273,\n",
       "       -0.05921128,  0.04337315, -0.23427871,  0.27903736,  0.31075197,\n",
       "       -0.18912442, -0.17384917,  0.27425772,  0.3348448 ,  0.15542182,\n",
       "        0.04993793,  0.45157406, -0.2595677 , -0.28854147,  0.03226552],\n",
       "      dtype=float32)"
      ]
     },
     "execution_count": 34,
     "metadata": {},
     "output_type": "execute_result"
    }
   ],
   "source": [
    "# The vector of the document in the corpus\n",
    "model.docvecs[0]"
   ]
  },
  {
   "cell_type": "markdown",
   "metadata": {},
   "source": [
    "## 2. Querying Job Descriptions"
   ]
  },
  {
   "cell_type": "code",
   "execution_count": 36,
   "metadata": {},
   "outputs": [
    {
     "name": "stdout",
     "output_type": "stream",
     "text": [
      "(3324, 12)\n"
     ]
    },
    {
     "data": {
      "text/html": [
       "<div>\n",
       "<style scoped>\n",
       "    .dataframe tbody tr th:only-of-type {\n",
       "        vertical-align: middle;\n",
       "    }\n",
       "\n",
       "    .dataframe tbody tr th {\n",
       "        vertical-align: top;\n",
       "    }\n",
       "\n",
       "    .dataframe thead th {\n",
       "        text-align: right;\n",
       "    }\n",
       "</style>\n",
       "<table border=\"1\" class=\"dataframe\">\n",
       "  <thead>\n",
       "    <tr style=\"text-align: right;\">\n",
       "      <th></th>\n",
       "      <th>Job_title</th>\n",
       "      <th>Company</th>\n",
       "      <th>State</th>\n",
       "      <th>City</th>\n",
       "      <th>Min_Salary</th>\n",
       "      <th>Max_Salary</th>\n",
       "      <th>Job_Desc</th>\n",
       "      <th>Industry</th>\n",
       "      <th>Rating</th>\n",
       "      <th>Date_Posted</th>\n",
       "      <th>Valid_until</th>\n",
       "      <th>Job_Type</th>\n",
       "    </tr>\n",
       "  </thead>\n",
       "  <tbody>\n",
       "    <tr>\n",
       "      <th>0</th>\n",
       "      <td>Chief Marketing Officer (CMO)</td>\n",
       "      <td>National Debt Relief</td>\n",
       "      <td>NY</td>\n",
       "      <td>New York</td>\n",
       "      <td>-1</td>\n",
       "      <td>-1</td>\n",
       "      <td>Who We're Looking For:\\n\\nThe Chief Marketing ...</td>\n",
       "      <td>Finance</td>\n",
       "      <td>4.0</td>\n",
       "      <td>2020-05-08</td>\n",
       "      <td>2020-06-07</td>\n",
       "      <td>FULL_TIME</td>\n",
       "    </tr>\n",
       "    <tr>\n",
       "      <th>1</th>\n",
       "      <td>Registered Nurse</td>\n",
       "      <td>Queens Boulevard Endoscopy Center</td>\n",
       "      <td>NY</td>\n",
       "      <td>Rego Park</td>\n",
       "      <td>-1</td>\n",
       "      <td>-1</td>\n",
       "      <td>Queens Boulevard Endoscopy Center, an endoscop...</td>\n",
       "      <td>NaN</td>\n",
       "      <td>3.0</td>\n",
       "      <td>2020-04-25</td>\n",
       "      <td>2020-06-07</td>\n",
       "      <td>FULL_TIME</td>\n",
       "    </tr>\n",
       "  </tbody>\n",
       "</table>\n",
       "</div>"
      ],
      "text/plain": [
       "                       Job_title                            Company State  \\\n",
       "0  Chief Marketing Officer (CMO)               National Debt Relief    NY   \n",
       "1               Registered Nurse  Queens Boulevard Endoscopy Center    NY   \n",
       "\n",
       "        City  Min_Salary  Max_Salary  \\\n",
       "0   New York          -1          -1   \n",
       "1  Rego Park          -1          -1   \n",
       "\n",
       "                                            Job_Desc Industry  Rating  \\\n",
       "0  Who We're Looking For:\\n\\nThe Chief Marketing ...  Finance     4.0   \n",
       "1  Queens Boulevard Endoscopy Center, an endoscop...      NaN     3.0   \n",
       "\n",
       "  Date_Posted Valid_until   Job_Type  \n",
       "0  2020-05-08  2020-06-07  FULL_TIME  \n",
       "1  2020-04-25  2020-06-07  FULL_TIME  "
      ]
     },
     "execution_count": 36,
     "metadata": {},
     "output_type": "execute_result"
    }
   ],
   "source": [
    "# Read in the job data\n",
    "\n",
    "job_df = pd.read_csv('../Data/Job_Data/Glassdoor_Joblist.csv')\n",
    "print(job_df.shape)\n",
    "job_df.head(2)"
   ]
  },
  {
   "cell_type": "code",
   "execution_count": 48,
   "metadata": {},
   "outputs": [],
   "source": [
    "# Define a function that queries a job description\n",
    "\n",
    "def job_query(job_description):\n",
    "    doc = gensim.utils.simple_preprocess(job_description)\n",
    "    vector = model.infer_vector(doc)\n",
    "    sims = model.docvecs.most_similar([vector])\n",
    "    return sims"
   ]
  },
  {
   "cell_type": "code",
   "execution_count": 68,
   "metadata": {},
   "outputs": [
    {
     "data": {
      "text/plain": [
       "Job_title                                         Data Scientist\n",
       "Company                                               Brightidea\n",
       "State                                                         CA\n",
       "City                                               San Francisco\n",
       "Min_Salary                                                119642\n",
       "Max_Salary                                                138312\n",
       "Job_Desc       \\nData Scientist\\n\\nat Brightidea\\n\\nSan Franc...\n",
       "Industry                                  Information Technology\n",
       "Rating                                                       4.3\n",
       "Date_Posted                                           2020-04-24\n",
       "Valid_until                                           2020-06-05\n",
       "Job_Type                                               FULL_TIME\n",
       "Name: 953, dtype: object"
      ]
     },
     "metadata": {},
     "output_type": "display_data"
    }
   ],
   "source": [
    "# Select a sample job\n",
    "\n",
    "display(job_df.loc[953])\n",
    "jd_1 = job_df['Job_Desc'][953]"
   ]
  },
  {
   "cell_type": "code",
   "execution_count": 69,
   "metadata": {},
   "outputs": [
    {
     "data": {
      "text/plain": [
       "[(3120, 0.6513493657112122),\n",
       " (2219, 0.6135452389717102),\n",
       " (968, 0.5959042310714722),\n",
       " (1987, 0.5909996032714844),\n",
       " (2316, 0.5609511137008667),\n",
       " (253, 0.5444154143333435),\n",
       " (3044, 0.5315869450569153),\n",
       " (12, 0.5302783846855164),\n",
       " (3173, 0.5288372039794922),\n",
       " (3374, 0.5286433696746826)]"
      ]
     },
     "execution_count": 69,
     "metadata": {},
     "output_type": "execute_result"
    }
   ],
   "source": [
    "# Call the function on the sample job description\n",
    "sim_docs = job_query(jd_1)\n",
    "\n",
    "# Display the doc ids and similarity scores\n",
    "sim_docs"
   ]
  },
  {
   "cell_type": "code",
   "execution_count": 70,
   "metadata": {},
   "outputs": [
    {
     "data": {
      "text/plain": [
       "[3120, 2219, 968, 1987, 2316, 253, 3044, 12, 3173, 3374]"
      ]
     },
     "execution_count": 70,
     "metadata": {},
     "output_type": "execute_result"
    }
   ],
   "source": [
    "# Make a list of the ids for the top ten most similar docs\n",
    "sim_ids = [sim[0] for sim in sim_docs]\n",
    "sim_ids"
   ]
  },
  {
   "cell_type": "code",
   "execution_count": 71,
   "metadata": {},
   "outputs": [
    {
     "data": {
      "text/plain": [
       "3120      Digital Product Management: Modern Fundamentals\n",
       "2219              Introduction to the Orbital Perspective\n",
       "968                Creating and Developing a Tech Startup\n",
       "1987                                     People Analytics\n",
       "2316    Big Data Essentials: HDFS, MapReduce and Spark...\n",
       "253     A Business Approach to Sustainable Landscape R...\n",
       "3044    Big Data Analysis: Hive, Spark SQL, DataFrames...\n",
       "12          Researcher Management and Leadership Training\n",
       "3173    Time to Reorganize! Understand Organizations, ...\n",
       "3374    Developing An Entrepreneurial Mindset: First S...\n",
       "Name: name, dtype: object"
      ]
     },
     "execution_count": 71,
     "metadata": {},
     "output_type": "execute_result"
    }
   ],
   "source": [
    "# Which courses did the model identify as most similar?\n",
    "\n",
    "course_df.loc[sim_ids, 'name']"
   ]
  },
  {
   "cell_type": "code",
   "execution_count": 72,
   "metadata": {},
   "outputs": [
    {
     "data": {
      "text/plain": [
       "'\\nData Scientist\\n\\nat Brightidea\\n\\nSan Francisco\\n\\nThe Role\\n\\nWe are seeking machine learning developers with natural language processing experience.\\n\\nIn general, we are looking for people who are self-motivated and passionate about the field of machine learning and the vast applications of it. These folks will have the ability to work with / understand / and build on top of an existing code base using their deep knowledge of various machine learning algorithms (e.g. neural networks, bayesian methods, etc).\\n\\nKey responsibilities include, but not limited to:\\n\\n\\nBuild on top of an existing text processing/classification system\\nWrite, maintain, and develop python machine learning modules & repos\\nRun hyperparameter optimizations + collect, analyze, visualize, and present results\\n\\nWhat You Need to Succeed\\n\\nBS or MS in computer science, mathematics, physics or other hard science/engineering discipline\\nProgramming in Python ~ 2+ years\\nNumpy, scipy, pandas, Jupyter, and scikit-learn background\\nData visualization (e.g. matplotlib, seaborn, bokeh, mpld3, etc)\\nAbility to implement machine learning algorithms from scratch\\nExperience with full machine learning pipeline: from data preprocessing, to building/training various models, to hyperparameter optimization, testing, and visualization of results.\\nBackground in deep learning preferred but not required\\n\\nIn Your Application Please Include\\n\\n\\n\\nA past machine learning project you worked on in which highlights your skills, including: What tools/models did you use? What were some problems you encountered along the way, and how did you solve them?\\n\\n\\n\\nWhat Brightidea Offers\\n\\nMarket competitive salary and significant equity in a well-funded, growing company\\nA chance to impact human creativity\\nGenerous vacation and holidays\\nTop-notch benefits (healthcare, vision, dental, maternity, paternity, retirement)\\nA unique opportunity to use your leadership skills, experience, and contacts to build a team and shape the culture of the company.\\nAn incredible team of fun, humble but brilliant co-workers\\n\\nBackground\\n\\nHelping large companies innovate isn’t easy, but it is vital. Vital to creating new jobs, vital to igniting growth, vital to ensuring a safe, healthy and prosperous future for billions around the globe.\\n\\nBut, innovation at large companies is a mess. Employees often have lots of ideas to improve the business, but, with no formal process, their ideas go unheard, and they eventually give up trying to make a difference. Corporate innovation teams are expected to support a growing list of activities but have historically lacked strong tools designed for the job. Executives, despite having millions to invest, live in fear of disruption, and still have no idea where their “next big idea” will come from, or if it will come at all.\\n\\nAt Brightidea, we’ve built a software platform that’s solving these problems. We’ve been helping organizations be more efficient with the 1.5 trillion dollars invested in R&D annually.\\n\\nOur Company & Culture\\n\\nWe are a tight-knit, entrepreneurial minded team of self-starters who show up every day with a singular mission: to create a world where the best ideas win. Our primary focus this year is to continue to add exceptionally talented and motivated individuals to the Brightidea team. We are ambitious, bold, highly-collaborative, focused, and we aim to win. We take a humble approach to changing the way corporate R&D teams run innovation challenges.\\n\\nAnyone joining our company will have the opportunity to shape the culture and be an integral part of setting it up for long term success. If you identify with being humble, T-shaped, and relentlessly resourceful then this could be the perfect team for you to shine in.\\n\\nBrightidea believes that everyone has the ability to make a difference and that a diverse team generates more innovation and bigger ideas. Just as our product invites organizations to crowd source innovation across their workforce, Brightidea is inclusive and does not discriminate. We accept everybody.\\n'"
      ]
     },
     "execution_count": 72,
     "metadata": {},
     "output_type": "execute_result"
    }
   ],
   "source": [
    "# Display the sample job description\n",
    "jd_1"
   ]
  },
  {
   "cell_type": "code",
   "execution_count": 73,
   "metadata": {},
   "outputs": [
    {
     "data": {
      "text/plain": [
       "\"Not so long ago, the job of product manager was about assessing market data, creating requirements, and managing the hand-off to sales/marketing. Maybe you’d talk to a customer somewhere in there and they’d tell you what features they wanted. But companies that manage product that way are dying.\\n\\nBeing a product person today is a new game, and product managers are at the center of it. Today, particularly if your product is mostly digital, you might update it several times a day. Massive troves of data are available for making decisions and, at the same time, deep insights into customer motivation and experience are more important than ever. The job of the modern product manager is to charter a direction and create a successful working environment for all the actors involved in product success.  It’s not a simple job or an easy job, but it is a meaningful job where you’ll be learning all the time. \\n\\nThis course will help you along your learning journey and prepare you with the skills and perspective you need to:\\n\\nCreate the actionable focus to successfully manage your product (week 1)\\nFocus your work using modern product management methods (week 2)\\nManage new products and explore new product ideas (week 3)\\nManage and amplify existing products (week 4)\\n\\nThis course is ideal for current product or general  managers interested in today's modern product management methods.\\n\\nThis course was developed with the generous support of the Batten Institute at UVA’s Darden School of Business. The Batten Institute’s mission is to improve the world through entrepreneurship and innovation: www.batteninstitute.org.\""
      ]
     },
     "execution_count": 73,
     "metadata": {},
     "output_type": "execute_result"
    }
   ],
   "source": [
    "# Display the description of the course identified as most similar\n",
    "\n",
    "course_df.loc[sim_ids[0], 'description']"
   ]
  },
  {
   "cell_type": "markdown",
   "metadata": {},
   "source": [
    "## Analysis:\n",
    "The architecture works, but the model does not appear to be very effective: Digital Product Management is definitely not the most relevant course on Coursera for the Data Scientist position at BrightIdea. Why does my model think it is? (The resoning is difficult to see just by looking at the two documents it matched together.) How can I improve the model's performance?"
   ]
  },
  {
   "cell_type": "code",
   "execution_count": null,
   "metadata": {},
   "outputs": [],
   "source": []
  },
  {
   "cell_type": "code",
   "execution_count": null,
   "metadata": {},
   "outputs": [],
   "source": []
  },
  {
   "cell_type": "code",
   "execution_count": null,
   "metadata": {},
   "outputs": [],
   "source": []
  }
 ],
 "metadata": {
  "kernelspec": {
   "display_name": "Python 3",
   "language": "python",
   "name": "python3"
  },
  "language_info": {
   "codemirror_mode": {
    "name": "ipython",
    "version": 3
   },
   "file_extension": ".py",
   "mimetype": "text/x-python",
   "name": "python",
   "nbconvert_exporter": "python",
   "pygments_lexer": "ipython3",
   "version": "3.7.6"
  }
 },
 "nbformat": 4,
 "nbformat_minor": 4
}
