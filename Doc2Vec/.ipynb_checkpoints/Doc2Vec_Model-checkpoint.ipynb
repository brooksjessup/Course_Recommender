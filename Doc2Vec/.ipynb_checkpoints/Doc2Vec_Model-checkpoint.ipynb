{
 "cells": [
  {
   "cell_type": "markdown",
   "metadata": {},
   "source": [
    "The purpose of this notebook is to build a Doc2Vec model."
   ]
  },
  {
   "cell_type": "code",
   "execution_count": 67,
   "metadata": {},
   "outputs": [],
   "source": [
    "import pandas as pd\n",
    "import gensim"
   ]
  },
  {
   "cell_type": "code",
   "execution_count": 68,
   "metadata": {},
   "outputs": [
    {
     "name": "stdout",
     "output_type": "stream",
     "text": [
      "(3324, 12)\n"
     ]
    },
    {
     "data": {
      "text/html": [
       "<div>\n",
       "<style scoped>\n",
       "    .dataframe tbody tr th:only-of-type {\n",
       "        vertical-align: middle;\n",
       "    }\n",
       "\n",
       "    .dataframe tbody tr th {\n",
       "        vertical-align: top;\n",
       "    }\n",
       "\n",
       "    .dataframe thead th {\n",
       "        text-align: right;\n",
       "    }\n",
       "</style>\n",
       "<table border=\"1\" class=\"dataframe\">\n",
       "  <thead>\n",
       "    <tr style=\"text-align: right;\">\n",
       "      <th></th>\n",
       "      <th>Job_title</th>\n",
       "      <th>Company</th>\n",
       "      <th>State</th>\n",
       "      <th>City</th>\n",
       "      <th>Min_Salary</th>\n",
       "      <th>Max_Salary</th>\n",
       "      <th>Job_Desc</th>\n",
       "      <th>Industry</th>\n",
       "      <th>Rating</th>\n",
       "      <th>Date_Posted</th>\n",
       "      <th>Valid_until</th>\n",
       "      <th>Job_Type</th>\n",
       "    </tr>\n",
       "  </thead>\n",
       "  <tbody>\n",
       "    <tr>\n",
       "      <th>0</th>\n",
       "      <td>Chief Marketing Officer (CMO)</td>\n",
       "      <td>National Debt Relief</td>\n",
       "      <td>NY</td>\n",
       "      <td>New York</td>\n",
       "      <td>-1</td>\n",
       "      <td>-1</td>\n",
       "      <td>Who We're Looking For:\\n\\nThe Chief Marketing ...</td>\n",
       "      <td>Finance</td>\n",
       "      <td>4.0</td>\n",
       "      <td>2020-05-08</td>\n",
       "      <td>2020-06-07</td>\n",
       "      <td>FULL_TIME</td>\n",
       "    </tr>\n",
       "    <tr>\n",
       "      <th>1</th>\n",
       "      <td>Registered Nurse</td>\n",
       "      <td>Queens Boulevard Endoscopy Center</td>\n",
       "      <td>NY</td>\n",
       "      <td>Rego Park</td>\n",
       "      <td>-1</td>\n",
       "      <td>-1</td>\n",
       "      <td>Queens Boulevard Endoscopy Center, an endoscop...</td>\n",
       "      <td>NaN</td>\n",
       "      <td>3.0</td>\n",
       "      <td>2020-04-25</td>\n",
       "      <td>2020-06-07</td>\n",
       "      <td>FULL_TIME</td>\n",
       "    </tr>\n",
       "    <tr>\n",
       "      <th>2</th>\n",
       "      <td>Dental Hygienist</td>\n",
       "      <td>Batista Dental</td>\n",
       "      <td>NJ</td>\n",
       "      <td>West New York</td>\n",
       "      <td>-1</td>\n",
       "      <td>-1</td>\n",
       "      <td>Part-time or Full-timedental hygienist positio...</td>\n",
       "      <td>NaN</td>\n",
       "      <td>NaN</td>\n",
       "      <td>2020-05-02</td>\n",
       "      <td>2020-06-07</td>\n",
       "      <td>PART_TIME</td>\n",
       "    </tr>\n",
       "    <tr>\n",
       "      <th>3</th>\n",
       "      <td>Senior Salesforce Developer</td>\n",
       "      <td>National Debt Relief</td>\n",
       "      <td>NY</td>\n",
       "      <td>New York</td>\n",
       "      <td>44587</td>\n",
       "      <td>82162</td>\n",
       "      <td>Principle Duties &amp; Responsibilities:\\n\\nAnalyz...</td>\n",
       "      <td>Finance</td>\n",
       "      <td>4.0</td>\n",
       "      <td>2020-05-08</td>\n",
       "      <td>2020-06-07</td>\n",
       "      <td>FULL_TIME</td>\n",
       "    </tr>\n",
       "    <tr>\n",
       "      <th>4</th>\n",
       "      <td>DEPUTY EXECUTIVE DIRECTOR, PROGRAM AND LEGAL A...</td>\n",
       "      <td>National Advocates for Pregnant Women</td>\n",
       "      <td>NY</td>\n",
       "      <td>New York</td>\n",
       "      <td>125410</td>\n",
       "      <td>212901</td>\n",
       "      <td>For FULL Job Announcement, visit our website: ...</td>\n",
       "      <td>NaN</td>\n",
       "      <td>NaN</td>\n",
       "      <td>2020-04-28</td>\n",
       "      <td>2020-06-07</td>\n",
       "      <td>FULL_TIME</td>\n",
       "    </tr>\n",
       "  </tbody>\n",
       "</table>\n",
       "</div>"
      ],
      "text/plain": [
       "                                           Job_title  \\\n",
       "0                      Chief Marketing Officer (CMO)   \n",
       "1                                   Registered Nurse   \n",
       "2                                   Dental Hygienist   \n",
       "3                        Senior Salesforce Developer   \n",
       "4  DEPUTY EXECUTIVE DIRECTOR, PROGRAM AND LEGAL A...   \n",
       "\n",
       "                                 Company State           City  Min_Salary  \\\n",
       "0                   National Debt Relief    NY       New York          -1   \n",
       "1      Queens Boulevard Endoscopy Center    NY      Rego Park          -1   \n",
       "2                         Batista Dental    NJ  West New York          -1   \n",
       "3                   National Debt Relief    NY       New York       44587   \n",
       "4  National Advocates for Pregnant Women    NY       New York      125410   \n",
       "\n",
       "   Max_Salary                                           Job_Desc Industry  \\\n",
       "0          -1  Who We're Looking For:\\n\\nThe Chief Marketing ...  Finance   \n",
       "1          -1  Queens Boulevard Endoscopy Center, an endoscop...      NaN   \n",
       "2          -1  Part-time or Full-timedental hygienist positio...      NaN   \n",
       "3       82162  Principle Duties & Responsibilities:\\n\\nAnalyz...  Finance   \n",
       "4      212901  For FULL Job Announcement, visit our website: ...      NaN   \n",
       "\n",
       "   Rating Date_Posted Valid_until   Job_Type  \n",
       "0     4.0  2020-05-08  2020-06-07  FULL_TIME  \n",
       "1     3.0  2020-04-25  2020-06-07  FULL_TIME  \n",
       "2     NaN  2020-05-02  2020-06-07  PART_TIME  \n",
       "3     4.0  2020-05-08  2020-06-07  FULL_TIME  \n",
       "4     NaN  2020-04-28  2020-06-07  FULL_TIME  "
      ]
     },
     "execution_count": 68,
     "metadata": {},
     "output_type": "execute_result"
    }
   ],
   "source": [
    "df = pd.read_csv('../Data/Job_Data/Glassdoor_Joblist.csv')\n",
    "print(df.shape)\n",
    "df.head()"
   ]
  },
  {
   "cell_type": "code",
   "execution_count": 69,
   "metadata": {},
   "outputs": [],
   "source": [
    "# Convert job description series to list\n",
    "job_descriptions = df['Job_Desc'].to_list()"
   ]
  },
  {
   "cell_type": "code",
   "execution_count": 70,
   "metadata": {},
   "outputs": [],
   "source": [
    "# Do simple preprocessing on the corpus of job descriptions:\n",
    "# tokenize, lowercase, remove punctuation.\n",
    "\n",
    "def read_corpus(corpus):\n",
    "    for i, doc in enumerate(corpus):\n",
    "        tokens = gensim.utils.simple_preprocess(doc)\n",
    "        yield gensim.models.doc2vec.TaggedDocument(tokens, [i])\n",
    "\n",
    "train_corpus = list(read_corpus(job_descriptions))"
   ]
  },
  {
   "cell_type": "code",
   "execution_count": 71,
   "metadata": {},
   "outputs": [
    {
     "name": "stdout",
     "output_type": "stream",
     "text": [
      "TaggedDocument(['queens', 'boulevard', 'endoscopy', 'center', 'an', 'endoscopy', 'asc', 'located', 'in', 'rego', 'park', 'has', 'an', 'exciting', 'opportunity', 'for', 'full', 'time', 'registered', 'nurse', 'successful', 'candidates', 'will', 'provide', 'quality', 'nursing', 'care', 'in', 'all', 'areas', 'of', 'the', 'center', 'including', 'pre', 'assessment', 'pre', 'op', 'and', 'pacu', 'qualified', 'candidates', 'must', 'possess', 'the', 'following', 'current', 'ny', 'state', 'rn', 'license', 'bls', 'certification', 'acls', 'preferred', 'must', 'be', 'team', 'player', 'with', 'excellent', 'multi', 'tasking', 'and', 'interpersonal', 'skills', 'compassion', 'for', 'patient', 'needs', 'and', 'high', 'degree', 'of', 'professionalism', 'chinese', 'speaking', 'and', 'spanish', 'preferred', 'queens', 'boulevard', 'endoscopy', 'center', 'offers', 'pleasant', 'professional', 'work', 'environment', 'and', 'no', 'evening', 'or', 'holiday', 'work', 'hours', 'drug', 'free', 'work', 'environment', 'and', 'eoe'], [1])\n"
     ]
    }
   ],
   "source": [
    "# Examine one document in the corpus (tag at end)\n",
    "\n",
    "print(train_corpus[1])"
   ]
  },
  {
   "cell_type": "code",
   "execution_count": 72,
   "metadata": {},
   "outputs": [],
   "source": [
    "# Instantiate the model\n",
    "\n",
    "model = gensim.models.doc2vec.Doc2Vec(vector_size=50, \n",
    "                                      min_count=2,\n",
    "                                      epochs=20)"
   ]
  },
  {
   "cell_type": "code",
   "execution_count": 73,
   "metadata": {},
   "outputs": [],
   "source": [
    "# Build a vocabulary\n",
    "\n",
    "model.build_vocab(train_corpus)"
   ]
  },
  {
   "cell_type": "code",
   "execution_count": 74,
   "metadata": {},
   "outputs": [
    {
     "data": {
      "text/plain": [
       "19259"
      ]
     },
     "execution_count": 74,
     "metadata": {},
     "output_type": "execute_result"
    }
   ],
   "source": [
    "# How many occurrences of the word \"data\" in the corpus?\n",
    "\n",
    "model.wv.vocab['data'].count"
   ]
  },
  {
   "cell_type": "code",
   "execution_count": 75,
   "metadata": {},
   "outputs": [],
   "source": [
    "# Train the model on the corpus\n",
    "\n",
    "model.train(train_corpus,\n",
    "            total_examples=model.corpus_count,\n",
    "            epochs=model.epochs)"
   ]
  },
  {
   "cell_type": "code",
   "execution_count": 76,
   "metadata": {},
   "outputs": [],
   "source": [
    "# Assess the model by inferring a vector from a document\n",
    "# in the training corpus\n",
    "\n",
    "vector = model.infer_vector(train_corpus[1].words)\n",
    "sims = model.docvecs.most_similar([vector])"
   ]
  },
  {
   "cell_type": "code",
   "execution_count": 77,
   "metadata": {},
   "outputs": [
    {
     "data": {
      "text/plain": [
       "[(601, 0.9700711965560913),\n",
       " (721, 0.9677823185920715),\n",
       " (811, 0.9671065211296082),\n",
       " (631, 0.9666780829429626),\n",
       " (31, 0.9636819362640381),\n",
       " (361, 0.9634627103805542),\n",
       " (481, 0.9631281495094299),\n",
       " (200, 0.961749255657196),\n",
       " (2048, 0.9606184363365173),\n",
       " (691, 0.9604147672653198)]"
      ]
     },
     "execution_count": 77,
     "metadata": {},
     "output_type": "execute_result"
    }
   ],
   "source": [
    "# These are the id #s and similarity scores\n",
    "# for the most similar documents (duplicates!)\n",
    "sims"
   ]
  },
  {
   "cell_type": "code",
   "execution_count": 78,
   "metadata": {},
   "outputs": [
    {
     "data": {
      "text/plain": [
       "TaggedDocument(words=['queens', 'boulevard', 'endoscopy', 'center', 'an', 'endoscopy', 'asc', 'located', 'in', 'rego', 'park', 'has', 'an', 'exciting', 'opportunity', 'for', 'full', 'time', 'registered', 'nurse', 'successful', 'candidates', 'will', 'provide', 'quality', 'nursing', 'care', 'in', 'all', 'areas', 'of', 'the', 'center', 'including', 'pre', 'assessment', 'pre', 'op', 'and', 'pacu', 'qualified', 'candidates', 'must', 'possess', 'the', 'following', 'current', 'ny', 'state', 'rn', 'license', 'bls', 'certification', 'acls', 'preferred', 'must', 'be', 'team', 'player', 'with', 'excellent', 'multi', 'tasking', 'and', 'interpersonal', 'skills', 'compassion', 'for', 'patient', 'needs', 'and', 'high', 'degree', 'of', 'professionalism', 'chinese', 'speaking', 'and', 'spanish', 'preferred', 'queens', 'boulevard', 'endoscopy', 'center', 'offers', 'pleasant', 'professional', 'work', 'environment', 'and', 'no', 'evening', 'or', 'holiday', 'work', 'hours', 'drug', 'free', 'work', 'environment', 'and', 'eoe'], tags=[751])"
      ]
     },
     "execution_count": 78,
     "metadata": {},
     "output_type": "execute_result"
    }
   ],
   "source": [
    "train_corpus[751]"
   ]
  },
  {
   "cell_type": "code",
   "execution_count": 79,
   "metadata": {},
   "outputs": [
    {
     "name": "stdout",
     "output_type": "stream",
     "text": [
      "(4416, 10)\n"
     ]
    },
    {
     "data": {
      "text/html": [
       "<div>\n",
       "<style scoped>\n",
       "    .dataframe tbody tr th:only-of-type {\n",
       "        vertical-align: middle;\n",
       "    }\n",
       "\n",
       "    .dataframe tbody tr th {\n",
       "        vertical-align: top;\n",
       "    }\n",
       "\n",
       "    .dataframe thead th {\n",
       "        text-align: right;\n",
       "    }\n",
       "</style>\n",
       "<table border=\"1\" class=\"dataframe\">\n",
       "  <thead>\n",
       "    <tr style=\"text-align: right;\">\n",
       "      <th></th>\n",
       "      <th>courseType</th>\n",
       "      <th>description</th>\n",
       "      <th>domainTypes</th>\n",
       "      <th>id</th>\n",
       "      <th>slug</th>\n",
       "      <th>specializations</th>\n",
       "      <th>workload</th>\n",
       "      <th>primaryLanguages</th>\n",
       "      <th>certificates</th>\n",
       "      <th>name</th>\n",
       "    </tr>\n",
       "  </thead>\n",
       "  <tbody>\n",
       "    <tr>\n",
       "      <th>0</th>\n",
       "      <td>v2.ondemand</td>\n",
       "      <td>Gamification is the application of game elemen...</td>\n",
       "      <td>[{'subdomainId': 'design-and-product', 'domain...</td>\n",
       "      <td>69Bku0KoEeWZtA4u62x6lQ</td>\n",
       "      <td>gamification</td>\n",
       "      <td>[]</td>\n",
       "      <td>4-8 hours/week</td>\n",
       "      <td>['en']</td>\n",
       "      <td>['VerifiedCert']</td>\n",
       "      <td>Gamification</td>\n",
       "    </tr>\n",
       "    <tr>\n",
       "      <th>1</th>\n",
       "      <td>v2.ondemand</td>\n",
       "      <td>This course will cover the steps used in weigh...</td>\n",
       "      <td>[{'subdomainId': 'data-analysis', 'domainId': ...</td>\n",
       "      <td>0HiU7Oe4EeWTAQ4yevf_oQ</td>\n",
       "      <td>missing-data</td>\n",
       "      <td>[]</td>\n",
       "      <td>4 weeks of study, 1-2 hours/week</td>\n",
       "      <td>['en']</td>\n",
       "      <td>['VerifiedCert', 'Specialization']</td>\n",
       "      <td>Dealing With Missing Data</td>\n",
       "    </tr>\n",
       "    <tr>\n",
       "      <th>2</th>\n",
       "      <td>v2.ondemand</td>\n",
       "      <td>The Unordered Data Structures course covers th...</td>\n",
       "      <td>[{'domainId': 'computer-science', 'subdomainId...</td>\n",
       "      <td>sI_-QEBiEemtDRLx7Ne8jg</td>\n",
       "      <td>cs-fundamentals-3</td>\n",
       "      <td>[]</td>\n",
       "      <td>NaN</td>\n",
       "      <td>['en']</td>\n",
       "      <td>['VerifiedCert', 'Specialization']</td>\n",
       "      <td>Unordered Data Structures</td>\n",
       "    </tr>\n",
       "    <tr>\n",
       "      <th>3</th>\n",
       "      <td>v2.ondemand</td>\n",
       "      <td>The vital signs – heart rate, blood pressure, ...</td>\n",
       "      <td>[{'subdomainId': 'patient-care', 'domainId': '...</td>\n",
       "      <td>5zjIsJq-EeW_wArffOXkOw</td>\n",
       "      <td>vital-signs</td>\n",
       "      <td>[]</td>\n",
       "      <td>3-5 hours/week</td>\n",
       "      <td>['en']</td>\n",
       "      <td>['VerifiedCert']</td>\n",
       "      <td>Vital Signs: Understanding What the Body Is Te...</td>\n",
       "    </tr>\n",
       "    <tr>\n",
       "      <th>4</th>\n",
       "      <td>v2.ondemand</td>\n",
       "      <td>This course “FinTech Disruptive Innovation: Im...</td>\n",
       "      <td>[{'subdomainId': 'finance', 'domainId': 'busin...</td>\n",
       "      <td>WFanvtoSEeedbRLwgi9a7A</td>\n",
       "      <td>fintech-disruption</td>\n",
       "      <td>[]</td>\n",
       "      <td>Around 4 hours of videos in total, plus a fina...</td>\n",
       "      <td>['en']</td>\n",
       "      <td>['VerifiedCert', 'Specialization']</td>\n",
       "      <td>FinTech Disruptive Innovation: Implications fo...</td>\n",
       "    </tr>\n",
       "  </tbody>\n",
       "</table>\n",
       "</div>"
      ],
      "text/plain": [
       "    courseType                                        description  \\\n",
       "0  v2.ondemand  Gamification is the application of game elemen...   \n",
       "1  v2.ondemand  This course will cover the steps used in weigh...   \n",
       "2  v2.ondemand  The Unordered Data Structures course covers th...   \n",
       "3  v2.ondemand  The vital signs – heart rate, blood pressure, ...   \n",
       "4  v2.ondemand  This course “FinTech Disruptive Innovation: Im...   \n",
       "\n",
       "                                         domainTypes                      id  \\\n",
       "0  [{'subdomainId': 'design-and-product', 'domain...  69Bku0KoEeWZtA4u62x6lQ   \n",
       "1  [{'subdomainId': 'data-analysis', 'domainId': ...  0HiU7Oe4EeWTAQ4yevf_oQ   \n",
       "2  [{'domainId': 'computer-science', 'subdomainId...  sI_-QEBiEemtDRLx7Ne8jg   \n",
       "3  [{'subdomainId': 'patient-care', 'domainId': '...  5zjIsJq-EeW_wArffOXkOw   \n",
       "4  [{'subdomainId': 'finance', 'domainId': 'busin...  WFanvtoSEeedbRLwgi9a7A   \n",
       "\n",
       "                 slug specializations  \\\n",
       "0        gamification              []   \n",
       "1        missing-data              []   \n",
       "2   cs-fundamentals-3              []   \n",
       "3         vital-signs              []   \n",
       "4  fintech-disruption              []   \n",
       "\n",
       "                                            workload primaryLanguages  \\\n",
       "0                                     4-8 hours/week           ['en']   \n",
       "1                   4 weeks of study, 1-2 hours/week           ['en']   \n",
       "2                                                NaN           ['en']   \n",
       "3                                     3-5 hours/week           ['en']   \n",
       "4  Around 4 hours of videos in total, plus a fina...           ['en']   \n",
       "\n",
       "                         certificates  \\\n",
       "0                    ['VerifiedCert']   \n",
       "1  ['VerifiedCert', 'Specialization']   \n",
       "2  ['VerifiedCert', 'Specialization']   \n",
       "3                    ['VerifiedCert']   \n",
       "4  ['VerifiedCert', 'Specialization']   \n",
       "\n",
       "                                                name  \n",
       "0                                       Gamification  \n",
       "1                          Dealing With Missing Data  \n",
       "2                          Unordered Data Structures  \n",
       "3  Vital Signs: Understanding What the Body Is Te...  \n",
       "4  FinTech Disruptive Innovation: Implications fo...  "
      ]
     },
     "execution_count": 79,
     "metadata": {},
     "output_type": "execute_result"
    }
   ],
   "source": [
    "# Read in the course data\n",
    "\n",
    "course_catalog = pd.read_csv('../Data/Course_Data/Coursera_Catalog.csv')\n",
    "print(course_catalog.shape)\n",
    "course_catalog.head()"
   ]
  },
  {
   "cell_type": "code",
   "execution_count": 80,
   "metadata": {},
   "outputs": [
    {
     "data": {
      "text/plain": [
       "'Machine learning (ML) is one of the fastest growing areas in technology and a highly sought after skillset in today’s job market. The World Economic Forum states the growth of artificial intelligence (AI) could create 58 million net new jobs in the next few years, yet it’s estimated that currently there are 300,000 AI engineers worldwide, but millions are needed. This means there is a unique and immediate opportunity for you to get started with learning the essential ML concepts that are used to build AI applications – no matter what your skill levels are. Learning the foundations of ML now, will help you keep pace with this growth, expand your skills and even help advance your career. \\n\\nThis course will teach you how to get started with AWS Machine Learning. Key topics include: Machine Learning on AWS, Computer Vision on AWS, and Natural Language Processing (NLP) on AWS. Each topic consists of several modules deep-diving into variety of ML concepts, AWS services as well as insights from experts to put the concepts into practice.'"
      ]
     },
     "execution_count": 80,
     "metadata": {},
     "output_type": "execute_result"
    }
   ],
   "source": [
    "# select a course description as an example\n",
    "\n",
    "cd = course_catalog['description'][9]\n",
    "cd"
   ]
  },
  {
   "cell_type": "code",
   "execution_count": 81,
   "metadata": {},
   "outputs": [
    {
     "data": {
      "text/plain": [
       "list"
      ]
     },
     "execution_count": 81,
     "metadata": {},
     "output_type": "execute_result"
    }
   ],
   "source": [
    "# tokenize the course description\n",
    "new_doc = gensim.utils.simple_preprocess(cd)\n",
    "type(new_doc)"
   ]
  },
  {
   "cell_type": "code",
   "execution_count": 82,
   "metadata": {},
   "outputs": [
    {
     "data": {
      "text/plain": [
       "[(953, 0.6477341055870056),\n",
       " (1730, 0.6368511915206909),\n",
       " (2092, 0.5848551988601685),\n",
       " (1737, 0.5847705602645874),\n",
       " (929, 0.5752161145210266),\n",
       " (2263, 0.5674833059310913),\n",
       " (2452, 0.5643137097358704),\n",
       " (1728, 0.5582506656646729),\n",
       " (2074, 0.5567480325698853),\n",
       " (1244, 0.5544293522834778)]"
      ]
     },
     "execution_count": 82,
     "metadata": {},
     "output_type": "execute_result"
    }
   ],
   "source": [
    "# Infer a vector using the model and compare to training docs\n",
    "new_vector = model.infer_vector(new_doc)\n",
    "new_sims = model.docvecs.most_similar([new_vector])\n",
    "new_sims"
   ]
  },
  {
   "cell_type": "code",
   "execution_count": 87,
   "metadata": {},
   "outputs": [
    {
     "data": {
      "text/html": [
       "<div>\n",
       "<style scoped>\n",
       "    .dataframe tbody tr th:only-of-type {\n",
       "        vertical-align: middle;\n",
       "    }\n",
       "\n",
       "    .dataframe tbody tr th {\n",
       "        vertical-align: top;\n",
       "    }\n",
       "\n",
       "    .dataframe thead th {\n",
       "        text-align: right;\n",
       "    }\n",
       "</style>\n",
       "<table border=\"1\" class=\"dataframe\">\n",
       "  <thead>\n",
       "    <tr style=\"text-align: right;\">\n",
       "      <th></th>\n",
       "      <th>Job_title</th>\n",
       "      <th>Company</th>\n",
       "      <th>State</th>\n",
       "      <th>City</th>\n",
       "      <th>Min_Salary</th>\n",
       "      <th>Max_Salary</th>\n",
       "      <th>Job_Desc</th>\n",
       "      <th>Industry</th>\n",
       "      <th>Rating</th>\n",
       "      <th>Date_Posted</th>\n",
       "      <th>Valid_until</th>\n",
       "      <th>Job_Type</th>\n",
       "    </tr>\n",
       "  </thead>\n",
       "  <tbody>\n",
       "    <tr>\n",
       "      <th>953</th>\n",
       "      <td>Data Scientist</td>\n",
       "      <td>Brightidea</td>\n",
       "      <td>CA</td>\n",
       "      <td>San Francisco</td>\n",
       "      <td>119642</td>\n",
       "      <td>138312</td>\n",
       "      <td>\\nData Scientist\\n\\nat Brightidea\\n\\nSan Franc...</td>\n",
       "      <td>Information Technology</td>\n",
       "      <td>4.3</td>\n",
       "      <td>2020-04-24</td>\n",
       "      <td>2020-06-05</td>\n",
       "      <td>FULL_TIME</td>\n",
       "    </tr>\n",
       "  </tbody>\n",
       "</table>\n",
       "</div>"
      ],
      "text/plain": [
       "          Job_title     Company State           City  Min_Salary  Max_Salary  \\\n",
       "953  Data Scientist  Brightidea    CA  San Francisco      119642      138312   \n",
       "\n",
       "                                              Job_Desc  \\\n",
       "953  \\nData Scientist\\n\\nat Brightidea\\n\\nSan Franc...   \n",
       "\n",
       "                   Industry  Rating Date_Posted Valid_until   Job_Type  \n",
       "953  Information Technology     4.3  2020-04-24  2020-06-05  FULL_TIME  "
      ]
     },
     "execution_count": 87,
     "metadata": {},
     "output_type": "execute_result"
    }
   ],
   "source": [
    "# This is the job listing with the highest similarity score\n",
    "df[953:954]"
   ]
  },
  {
   "cell_type": "code",
   "execution_count": 88,
   "metadata": {},
   "outputs": [
    {
     "data": {
      "text/plain": [
       "'\\nData Scientist\\n\\nat Brightidea\\n\\nSan Francisco\\n\\nThe Role\\n\\nWe are seeking machine learning developers with natural language processing experience.\\n\\nIn general, we are looking for people who are self-motivated and passionate about the field of machine learning and the vast applications of it. These folks will have the ability to work with / understand / and build on top of an existing code base using their deep knowledge of various machine learning algorithms (e.g. neural networks, bayesian methods, etc).\\n\\nKey responsibilities include, but not limited to:\\n\\n\\nBuild on top of an existing text processing/classification system\\nWrite, maintain, and develop python machine learning modules & repos\\nRun hyperparameter optimizations + collect, analyze, visualize, and present results\\n\\nWhat You Need to Succeed\\n\\nBS or MS in computer science, mathematics, physics or other hard science/engineering discipline\\nProgramming in Python ~ 2+ years\\nNumpy, scipy, pandas, Jupyter, and scikit-learn background\\nData visualization (e.g. matplotlib, seaborn, bokeh, mpld3, etc)\\nAbility to implement machine learning algorithms from scratch\\nExperience with full machine learning pipeline: from data preprocessing, to building/training various models, to hyperparameter optimization, testing, and visualization of results.\\nBackground in deep learning preferred but not required\\n\\nIn Your Application Please Include\\n\\n\\n\\nA past machine learning project you worked on in which highlights your skills, including: What tools/models did you use? What were some problems you encountered along the way, and how did you solve them?\\n\\n\\n\\nWhat Brightidea Offers\\n\\nMarket competitive salary and significant equity in a well-funded, growing company\\nA chance to impact human creativity\\nGenerous vacation and holidays\\nTop-notch benefits (healthcare, vision, dental, maternity, paternity, retirement)\\nA unique opportunity to use your leadership skills, experience, and contacts to build a team and shape the culture of the company.\\nAn incredible team of fun, humble but brilliant co-workers\\n\\nBackground\\n\\nHelping large companies innovate isn’t easy, but it is vital. Vital to creating new jobs, vital to igniting growth, vital to ensuring a safe, healthy and prosperous future for billions around the globe.\\n\\nBut, innovation at large companies is a mess. Employees often have lots of ideas to improve the business, but, with no formal process, their ideas go unheard, and they eventually give up trying to make a difference. Corporate innovation teams are expected to support a growing list of activities but have historically lacked strong tools designed for the job. Executives, despite having millions to invest, live in fear of disruption, and still have no idea where their “next big idea” will come from, or if it will come at all.\\n\\nAt Brightidea, we’ve built a software platform that’s solving these problems. We’ve been helping organizations be more efficient with the 1.5 trillion dollars invested in R&D annually.\\n\\nOur Company & Culture\\n\\nWe are a tight-knit, entrepreneurial minded team of self-starters who show up every day with a singular mission: to create a world where the best ideas win. Our primary focus this year is to continue to add exceptionally talented and motivated individuals to the Brightidea team. We are ambitious, bold, highly-collaborative, focused, and we aim to win. We take a humble approach to changing the way corporate R&D teams run innovation challenges.\\n\\nAnyone joining our company will have the opportunity to shape the culture and be an integral part of setting it up for long term success. If you identify with being humble, T-shaped, and relentlessly resourceful then this could be the perfect team for you to shine in.\\n\\nBrightidea believes that everyone has the ability to make a difference and that a diverse team generates more innovation and bigger ideas. Just as our product invites organizations to crowd source innovation across their workforce, Brightidea is inclusive and does not discriminate. We accept everybody.\\n'"
      ]
     },
     "execution_count": 88,
     "metadata": {},
     "output_type": "execute_result"
    }
   ],
   "source": [
    "df['Job_Desc'][953]"
   ]
  },
  {
   "cell_type": "code",
   "execution_count": 89,
   "metadata": {},
   "outputs": [
    {
     "data": {
      "text/plain": [
       "'Machine learning (ML) is one of the fastest growing areas in technology and a highly sought after skillset in today’s job market. The World Economic Forum states the growth of artificial intelligence (AI) could create 58 million net new jobs in the next few years, yet it’s estimated that currently there are 300,000 AI engineers worldwide, but millions are needed. This means there is a unique and immediate opportunity for you to get started with learning the essential ML concepts that are used to build AI applications – no matter what your skill levels are. Learning the foundations of ML now, will help you keep pace with this growth, expand your skills and even help advance your career. \\n\\nThis course will teach you how to get started with AWS Machine Learning. Key topics include: Machine Learning on AWS, Computer Vision on AWS, and Natural Language Processing (NLP) on AWS. Each topic consists of several modules deep-diving into variety of ML concepts, AWS services as well as insights from experts to put the concepts into practice.'"
      ]
     },
     "execution_count": 89,
     "metadata": {},
     "output_type": "execute_result"
    }
   ],
   "source": [
    "cd"
   ]
  },
  {
   "cell_type": "code",
   "execution_count": null,
   "metadata": {},
   "outputs": [],
   "source": []
  }
 ],
 "metadata": {
  "kernelspec": {
   "display_name": "Python 3",
   "language": "python",
   "name": "python3"
  },
  "language_info": {
   "codemirror_mode": {
    "name": "ipython",
    "version": 3
   },
   "file_extension": ".py",
   "mimetype": "text/x-python",
   "name": "python",
   "nbconvert_exporter": "python",
   "pygments_lexer": "ipython3",
   "version": "3.7.6"
  }
 },
 "nbformat": 4,
 "nbformat_minor": 4
}
