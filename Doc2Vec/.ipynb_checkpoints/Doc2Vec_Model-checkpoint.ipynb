{
 "cells": [
  {
   "cell_type": "markdown",
   "metadata": {},
   "source": [
    "The purpose of this notebook is to build a Doc2Vec model."
   ]
  },
  {
   "cell_type": "code",
   "execution_count": 4,
   "metadata": {},
   "outputs": [],
   "source": [
    "# Import libraries\n",
    "\n",
    "import pandas as pd\n",
    "import gensim\n",
    "import pickle"
   ]
  },
  {
   "cell_type": "markdown",
   "metadata": {},
   "source": [
    "## 1. Model Building"
   ]
  },
  {
   "cell_type": "code",
   "execution_count": 5,
   "metadata": {},
   "outputs": [
    {
     "name": "stdout",
     "output_type": "stream",
     "text": [
      "(4416, 10)\n"
     ]
    },
    {
     "data": {
      "text/html": [
       "<div>\n",
       "<style scoped>\n",
       "    .dataframe tbody tr th:only-of-type {\n",
       "        vertical-align: middle;\n",
       "    }\n",
       "\n",
       "    .dataframe tbody tr th {\n",
       "        vertical-align: top;\n",
       "    }\n",
       "\n",
       "    .dataframe thead th {\n",
       "        text-align: right;\n",
       "    }\n",
       "</style>\n",
       "<table border=\"1\" class=\"dataframe\">\n",
       "  <thead>\n",
       "    <tr style=\"text-align: right;\">\n",
       "      <th></th>\n",
       "      <th>courseType</th>\n",
       "      <th>description</th>\n",
       "      <th>domainTypes</th>\n",
       "      <th>id</th>\n",
       "      <th>slug</th>\n",
       "      <th>specializations</th>\n",
       "      <th>workload</th>\n",
       "      <th>primaryLanguages</th>\n",
       "      <th>certificates</th>\n",
       "      <th>name</th>\n",
       "    </tr>\n",
       "  </thead>\n",
       "  <tbody>\n",
       "    <tr>\n",
       "      <th>0</th>\n",
       "      <td>v2.ondemand</td>\n",
       "      <td>Gamification is the application of game elemen...</td>\n",
       "      <td>[{'subdomainId': 'design-and-product', 'domain...</td>\n",
       "      <td>69Bku0KoEeWZtA4u62x6lQ</td>\n",
       "      <td>gamification</td>\n",
       "      <td>[]</td>\n",
       "      <td>4-8 hours/week</td>\n",
       "      <td>['en']</td>\n",
       "      <td>['VerifiedCert']</td>\n",
       "      <td>Gamification</td>\n",
       "    </tr>\n",
       "    <tr>\n",
       "      <th>1</th>\n",
       "      <td>v2.ondemand</td>\n",
       "      <td>This course will cover the steps used in weigh...</td>\n",
       "      <td>[{'subdomainId': 'data-analysis', 'domainId': ...</td>\n",
       "      <td>0HiU7Oe4EeWTAQ4yevf_oQ</td>\n",
       "      <td>missing-data</td>\n",
       "      <td>[]</td>\n",
       "      <td>4 weeks of study, 1-2 hours/week</td>\n",
       "      <td>['en']</td>\n",
       "      <td>['VerifiedCert', 'Specialization']</td>\n",
       "      <td>Dealing With Missing Data</td>\n",
       "    </tr>\n",
       "  </tbody>\n",
       "</table>\n",
       "</div>"
      ],
      "text/plain": [
       "    courseType                                        description  \\\n",
       "0  v2.ondemand  Gamification is the application of game elemen...   \n",
       "1  v2.ondemand  This course will cover the steps used in weigh...   \n",
       "\n",
       "                                         domainTypes                      id  \\\n",
       "0  [{'subdomainId': 'design-and-product', 'domain...  69Bku0KoEeWZtA4u62x6lQ   \n",
       "1  [{'subdomainId': 'data-analysis', 'domainId': ...  0HiU7Oe4EeWTAQ4yevf_oQ   \n",
       "\n",
       "           slug specializations                          workload  \\\n",
       "0  gamification              []                    4-8 hours/week   \n",
       "1  missing-data              []  4 weeks of study, 1-2 hours/week   \n",
       "\n",
       "  primaryLanguages                        certificates  \\\n",
       "0           ['en']                    ['VerifiedCert']   \n",
       "1           ['en']  ['VerifiedCert', 'Specialization']   \n",
       "\n",
       "                        name  \n",
       "0               Gamification  \n",
       "1  Dealing With Missing Data  "
      ]
     },
     "execution_count": 5,
     "metadata": {},
     "output_type": "execute_result"
    }
   ],
   "source": [
    "# Read in the course data\n",
    "\n",
    "course_df = pd.read_csv('../Data/Course_Data/Coursera_Catalog.csv')\n",
    "print(course_df.shape)\n",
    "course_df.head(2)"
   ]
  },
  {
   "cell_type": "code",
   "execution_count": 6,
   "metadata": {},
   "outputs": [],
   "source": [
    "# Preprocess the course data as a training corpus\n",
    "\n",
    "# Convert the course descriptions to a list\n",
    "course_descriptions = course_df['description'].to_list()\n",
    "\n",
    "# Define a function for basic preprocessing:\n",
    "# tokenize, lowercase, de-punctuation, document tagging\n",
    "def read_corpus(corpus):\n",
    "    for i, doc in enumerate(corpus):\n",
    "        tokens = gensim.utils.simple_preprocess(doc)\n",
    "        yield gensim.models.doc2vec.TaggedDocument(tokens, [i])\n",
    "\n",
    "# Run the function on the list of course descriptions\n",
    "train_corpus = list(read_corpus(course_descriptions))"
   ]
  },
  {
   "cell_type": "code",
   "execution_count": 7,
   "metadata": {},
   "outputs": [
    {
     "name": "stdout",
     "output_type": "stream",
     "text": [
      "TaggedDocument(['gamification', 'is', 'the', 'application', 'of', 'game', 'elements', 'and', 'digital', 'game', 'design', 'techniques', 'to', 'non', 'game', 'problems', 'such', 'as', 'business', 'and', 'social', 'impact', 'challenges', 'this', 'course', 'will', 'teach', 'you', 'the', 'mechanisms', 'of', 'gamification', 'why', 'it', 'has', 'such', 'tremendous', 'potential', 'and', 'how', 'to', 'use', 'it', 'effectively', 'for', 'additional', 'information', 'on', 'the', 'concepts', 'described', 'in', 'the', 'course', 'you', 'can', 'purchase', 'professor', 'werbach', 'book', 'for', 'the', 'win', 'how', 'game', 'thinking', 'can', 'revolutionize', 'your', 'business', 'in', 'print', 'or', 'ebook', 'format', 'in', 'several', 'languages'], [0])\n"
     ]
    }
   ],
   "source": [
    "# Examine the first document in the corpus (tag at end)\n",
    "\n",
    "print(train_corpus[0])"
   ]
  },
  {
   "cell_type": "code",
   "execution_count": 8,
   "metadata": {},
   "outputs": [],
   "source": [
    "# Build a model\n",
    "\n",
    "# Instantiate the model\n",
    "model = gensim.models.doc2vec.Doc2Vec(vector_size=50, \n",
    "                                      min_count=2,\n",
    "                                      epochs=20)\n",
    "\n",
    "# Create a vocabulary for the model\n",
    "model.build_vocab(train_corpus)\n",
    "\n",
    "# Train the model on the corpus\n",
    "model.train(train_corpus,\n",
    "            total_examples=model.corpus_count,\n",
    "            epochs=model.epochs)"
   ]
  },
  {
   "cell_type": "code",
   "execution_count": 9,
   "metadata": {},
   "outputs": [
    {
     "data": {
      "text/plain": [
       "[(0, 0.9297835230827332),\n",
       " (4328, 0.6194338202476501),\n",
       " (3514, 0.595689058303833),\n",
       " (4125, 0.5856249332427979),\n",
       " (4203, 0.5853810906410217),\n",
       " (2684, 0.5722717046737671),\n",
       " (2627, 0.5592280030250549),\n",
       " (2036, 0.5415085554122925),\n",
       " (872, 0.5365030765533447),\n",
       " (993, 0.5356308221817017)]"
      ]
     },
     "execution_count": 9,
     "metadata": {},
     "output_type": "execute_result"
    }
   ],
   "source": [
    "# Assess the model\n",
    "\n",
    "# Infer a vector for a document in the training corpus itself.\n",
    "vector = model.infer_vector(train_corpus[0].words)\n",
    "\n",
    "# Find which documents in the training corpus it is most similar to.\n",
    "sims = model.docvecs.most_similar([vector])\n",
    "sims"
   ]
  },
  {
   "cell_type": "markdown",
   "metadata": {},
   "source": [
    "### Analysis: \n",
    "The model successfully finds that the queried document is most similar to itself in the training corpus. But a similarity score of only .905 still seems low for two exactly identical documents."
   ]
  },
  {
   "cell_type": "code",
   "execution_count": 10,
   "metadata": {},
   "outputs": [
    {
     "data": {
      "text/plain": [
       "TaggedDocument(words=['gamification', 'is', 'the', 'application', 'of', 'game', 'elements', 'and', 'digital', 'game', 'design', 'techniques', 'to', 'non', 'game', 'problems', 'such', 'as', 'business', 'and', 'social', 'impact', 'challenges', 'this', 'course', 'will', 'teach', 'you', 'the', 'mechanisms', 'of', 'gamification', 'why', 'it', 'has', 'such', 'tremendous', 'potential', 'and', 'how', 'to', 'use', 'it', 'effectively', 'for', 'additional', 'information', 'on', 'the', 'concepts', 'described', 'in', 'the', 'course', 'you', 'can', 'purchase', 'professor', 'werbach', 'book', 'for', 'the', 'win', 'how', 'game', 'thinking', 'can', 'revolutionize', 'your', 'business', 'in', 'print', 'or', 'ebook', 'format', 'in', 'several', 'languages'], tags=[0])"
      ]
     },
     "execution_count": 10,
     "metadata": {},
     "output_type": "execute_result"
    }
   ],
   "source": [
    "# The text of the document in the corpus\n",
    "train_corpus[0]"
   ]
  },
  {
   "cell_type": "code",
   "execution_count": 11,
   "metadata": {},
   "outputs": [
    {
     "data": {
      "text/plain": [
       "array([ 0.38629812,  0.5783848 , -0.02540533,  0.37469834, -0.48154405,\n",
       "       -0.1593047 , -0.31531   , -0.06316546, -0.8638272 ,  0.5396206 ,\n",
       "       -0.7799212 ,  0.4568018 , -1.0130543 ,  0.09721771,  0.01842084,\n",
       "        0.33465704,  0.03045495,  0.2790492 , -0.41015503, -0.38814616,\n",
       "        0.22531334, -0.00586816, -0.0821557 , -0.54532003,  0.91010016,\n",
       "       -0.00290382,  0.1918041 ,  0.12977605, -0.14652981,  0.72398365,\n",
       "       -0.1945694 , -0.09146152, -0.31444156, -0.05626089, -0.2945109 ,\n",
       "        0.08408266, -0.6675039 ,  0.3900648 ,  0.2890711 ,  0.44858932,\n",
       "        0.64772874,  0.5251184 , -0.00458518,  0.8088226 ,  0.45003164,\n",
       "        0.05860854, -0.18295369,  0.03185805,  0.07435168, -0.43666798],\n",
       "      dtype=float32)"
      ]
     },
     "execution_count": 11,
     "metadata": {},
     "output_type": "execute_result"
    }
   ],
   "source": [
    "# The vector of the document in the query\n",
    "vector"
   ]
  },
  {
   "cell_type": "code",
   "execution_count": 12,
   "metadata": {},
   "outputs": [
    {
     "data": {
      "text/plain": [
       "array([ 0.28258136,  0.30014622, -0.17879154,  0.22064546,  0.06615274,\n",
       "       -0.13122658, -0.10445565, -0.11441766, -0.6116671 ,  0.47410238,\n",
       "       -0.5039973 ,  0.29454967, -0.61621284,  0.24525239,  0.0964065 ,\n",
       "        0.3089098 , -0.10508112,  0.13013092, -0.30781358, -0.1194708 ,\n",
       "        0.19032517, -0.26953024, -0.02628003, -0.19508152,  0.7917689 ,\n",
       "        0.03244531,  0.1812464 ,  0.13986608, -0.06453077,  0.4570868 ,\n",
       "       -0.08253011, -0.16883898, -0.16239563,  0.00398307, -0.2208868 ,\n",
       "        0.07151165, -0.4613866 ,  0.29482293,  0.38926482,  0.21558928,\n",
       "        0.31290093,  0.33779612, -0.04056223,  0.6325989 ,  0.11753267,\n",
       "        0.00493962, -0.21678235,  0.05802134, -0.04052821, -0.32103115],\n",
       "      dtype=float32)"
      ]
     },
     "execution_count": 12,
     "metadata": {},
     "output_type": "execute_result"
    }
   ],
   "source": [
    "# The vector of the document in the corpus\n",
    "model.docvecs[0]"
   ]
  },
  {
   "cell_type": "markdown",
   "metadata": {},
   "source": [
    "## 2. Querying Job Descriptions"
   ]
  },
  {
   "cell_type": "code",
   "execution_count": 13,
   "metadata": {},
   "outputs": [
    {
     "name": "stdout",
     "output_type": "stream",
     "text": [
      "(3324, 12)\n"
     ]
    },
    {
     "data": {
      "text/html": [
       "<div>\n",
       "<style scoped>\n",
       "    .dataframe tbody tr th:only-of-type {\n",
       "        vertical-align: middle;\n",
       "    }\n",
       "\n",
       "    .dataframe tbody tr th {\n",
       "        vertical-align: top;\n",
       "    }\n",
       "\n",
       "    .dataframe thead th {\n",
       "        text-align: right;\n",
       "    }\n",
       "</style>\n",
       "<table border=\"1\" class=\"dataframe\">\n",
       "  <thead>\n",
       "    <tr style=\"text-align: right;\">\n",
       "      <th></th>\n",
       "      <th>Job_title</th>\n",
       "      <th>Company</th>\n",
       "      <th>State</th>\n",
       "      <th>City</th>\n",
       "      <th>Min_Salary</th>\n",
       "      <th>Max_Salary</th>\n",
       "      <th>Job_Desc</th>\n",
       "      <th>Industry</th>\n",
       "      <th>Rating</th>\n",
       "      <th>Date_Posted</th>\n",
       "      <th>Valid_until</th>\n",
       "      <th>Job_Type</th>\n",
       "    </tr>\n",
       "  </thead>\n",
       "  <tbody>\n",
       "    <tr>\n",
       "      <th>0</th>\n",
       "      <td>Chief Marketing Officer (CMO)</td>\n",
       "      <td>National Debt Relief</td>\n",
       "      <td>NY</td>\n",
       "      <td>New York</td>\n",
       "      <td>-1</td>\n",
       "      <td>-1</td>\n",
       "      <td>Who We're Looking For:\\n\\nThe Chief Marketing ...</td>\n",
       "      <td>Finance</td>\n",
       "      <td>4.0</td>\n",
       "      <td>2020-05-08</td>\n",
       "      <td>2020-06-07</td>\n",
       "      <td>FULL_TIME</td>\n",
       "    </tr>\n",
       "    <tr>\n",
       "      <th>1</th>\n",
       "      <td>Registered Nurse</td>\n",
       "      <td>Queens Boulevard Endoscopy Center</td>\n",
       "      <td>NY</td>\n",
       "      <td>Rego Park</td>\n",
       "      <td>-1</td>\n",
       "      <td>-1</td>\n",
       "      <td>Queens Boulevard Endoscopy Center, an endoscop...</td>\n",
       "      <td>NaN</td>\n",
       "      <td>3.0</td>\n",
       "      <td>2020-04-25</td>\n",
       "      <td>2020-06-07</td>\n",
       "      <td>FULL_TIME</td>\n",
       "    </tr>\n",
       "  </tbody>\n",
       "</table>\n",
       "</div>"
      ],
      "text/plain": [
       "                       Job_title                            Company State  \\\n",
       "0  Chief Marketing Officer (CMO)               National Debt Relief    NY   \n",
       "1               Registered Nurse  Queens Boulevard Endoscopy Center    NY   \n",
       "\n",
       "        City  Min_Salary  Max_Salary  \\\n",
       "0   New York          -1          -1   \n",
       "1  Rego Park          -1          -1   \n",
       "\n",
       "                                            Job_Desc Industry  Rating  \\\n",
       "0  Who We're Looking For:\\n\\nThe Chief Marketing ...  Finance     4.0   \n",
       "1  Queens Boulevard Endoscopy Center, an endoscop...      NaN     3.0   \n",
       "\n",
       "  Date_Posted Valid_until   Job_Type  \n",
       "0  2020-05-08  2020-06-07  FULL_TIME  \n",
       "1  2020-04-25  2020-06-07  FULL_TIME  "
      ]
     },
     "execution_count": 13,
     "metadata": {},
     "output_type": "execute_result"
    }
   ],
   "source": [
    "# Read in the job data\n",
    "\n",
    "job_df = pd.read_csv('../Data/Job_Data/Glassdoor_Joblist.csv')\n",
    "print(job_df.shape)\n",
    "job_df.head(2)"
   ]
  },
  {
   "cell_type": "code",
   "execution_count": 14,
   "metadata": {},
   "outputs": [],
   "source": [
    "# Define a function that queries a job description\n",
    "\n",
    "def job_query(job_description):\n",
    "    doc = gensim.utils.simple_preprocess(job_description)\n",
    "    vector = model.infer_vector(doc)\n",
    "    sims = model.docvecs.most_similar([vector])\n",
    "    return sims"
   ]
  },
  {
   "cell_type": "code",
   "execution_count": 15,
   "metadata": {},
   "outputs": [
    {
     "data": {
      "text/plain": [
       "Job_title                                         Data Scientist\n",
       "Company                                               Brightidea\n",
       "State                                                         CA\n",
       "City                                               San Francisco\n",
       "Min_Salary                                                119642\n",
       "Max_Salary                                                138312\n",
       "Job_Desc       \\nData Scientist\\n\\nat Brightidea\\n\\nSan Franc...\n",
       "Industry                                  Information Technology\n",
       "Rating                                                       4.3\n",
       "Date_Posted                                           2020-04-24\n",
       "Valid_until                                           2020-06-05\n",
       "Job_Type                                               FULL_TIME\n",
       "Name: 953, dtype: object"
      ]
     },
     "metadata": {},
     "output_type": "display_data"
    }
   ],
   "source": [
    "# Select a sample job\n",
    "\n",
    "display(job_df.loc[953])\n",
    "jd_1 = job_df['Job_Desc'][953]"
   ]
  },
  {
   "cell_type": "code",
   "execution_count": 16,
   "metadata": {},
   "outputs": [
    {
     "data": {
      "text/plain": [
       "[(1987, 0.6027417182922363),\n",
       " (2316, 0.5830969214439392),\n",
       " (3044, 0.573232889175415),\n",
       " (3374, 0.5678238272666931),\n",
       " (3120, 0.5664616227149963),\n",
       " (968, 0.5618869066238403),\n",
       " (4342, 0.5590941309928894),\n",
       " (4101, 0.5466418862342834),\n",
       " (2219, 0.5438205003738403),\n",
       " (3388, 0.5413758158683777)]"
      ]
     },
     "execution_count": 16,
     "metadata": {},
     "output_type": "execute_result"
    }
   ],
   "source": [
    "# Call the function on the sample job description\n",
    "sim_docs = job_query(jd_1)\n",
    "\n",
    "# Display the doc ids and similarity scores\n",
    "sim_docs"
   ]
  },
  {
   "cell_type": "code",
   "execution_count": 17,
   "metadata": {},
   "outputs": [
    {
     "data": {
      "text/plain": [
       "[1987, 2316, 3044, 3374, 3120, 968, 4342, 4101, 2219, 3388]"
      ]
     },
     "execution_count": 17,
     "metadata": {},
     "output_type": "execute_result"
    }
   ],
   "source": [
    "# Make a list of the ids for the top ten most similar docs\n",
    "sim_ids = [sim[0] for sim in sim_docs]\n",
    "sim_ids"
   ]
  },
  {
   "cell_type": "code",
   "execution_count": 18,
   "metadata": {},
   "outputs": [
    {
     "data": {
      "text/plain": [
       "1987                                     People Analytics\n",
       "2316    Big Data Essentials: HDFS, MapReduce and Spark...\n",
       "3044    Big Data Analysis: Hive, Spark SQL, DataFrames...\n",
       "3374    Developing An Entrepreneurial Mindset: First S...\n",
       "3120      Digital Product Management: Modern Fundamentals\n",
       "968                Creating and Developing a Tech Startup\n",
       "4342           Sales Training: Building Your Sales Career\n",
       "4101                            Business Model Innovation\n",
       "2219              Introduction to the Orbital Perspective\n",
       "3388    Technology Commercialization, Part 1: Setting ...\n",
       "Name: name, dtype: object"
      ]
     },
     "execution_count": 18,
     "metadata": {},
     "output_type": "execute_result"
    }
   ],
   "source": [
    "# Which courses did the model identify as most similar?\n",
    "\n",
    "course_df.loc[sim_ids, 'name']"
   ]
  },
  {
   "cell_type": "code",
   "execution_count": 19,
   "metadata": {},
   "outputs": [
    {
     "data": {
      "text/plain": [
       "'\\nData Scientist\\n\\nat Brightidea\\n\\nSan Francisco\\n\\nThe Role\\n\\nWe are seeking machine learning developers with natural language processing experience.\\n\\nIn general, we are looking for people who are self-motivated and passionate about the field of machine learning and the vast applications of it. These folks will have the ability to work with / understand / and build on top of an existing code base using their deep knowledge of various machine learning algorithms (e.g. neural networks, bayesian methods, etc).\\n\\nKey responsibilities include, but not limited to:\\n\\n\\nBuild on top of an existing text processing/classification system\\nWrite, maintain, and develop python machine learning modules & repos\\nRun hyperparameter optimizations + collect, analyze, visualize, and present results\\n\\nWhat You Need to Succeed\\n\\nBS or MS in computer science, mathematics, physics or other hard science/engineering discipline\\nProgramming in Python ~ 2+ years\\nNumpy, scipy, pandas, Jupyter, and scikit-learn background\\nData visualization (e.g. matplotlib, seaborn, bokeh, mpld3, etc)\\nAbility to implement machine learning algorithms from scratch\\nExperience with full machine learning pipeline: from data preprocessing, to building/training various models, to hyperparameter optimization, testing, and visualization of results.\\nBackground in deep learning preferred but not required\\n\\nIn Your Application Please Include\\n\\n\\n\\nA past machine learning project you worked on in which highlights your skills, including: What tools/models did you use? What were some problems you encountered along the way, and how did you solve them?\\n\\n\\n\\nWhat Brightidea Offers\\n\\nMarket competitive salary and significant equity in a well-funded, growing company\\nA chance to impact human creativity\\nGenerous vacation and holidays\\nTop-notch benefits (healthcare, vision, dental, maternity, paternity, retirement)\\nA unique opportunity to use your leadership skills, experience, and contacts to build a team and shape the culture of the company.\\nAn incredible team of fun, humble but brilliant co-workers\\n\\nBackground\\n\\nHelping large companies innovate isn’t easy, but it is vital. Vital to creating new jobs, vital to igniting growth, vital to ensuring a safe, healthy and prosperous future for billions around the globe.\\n\\nBut, innovation at large companies is a mess. Employees often have lots of ideas to improve the business, but, with no formal process, their ideas go unheard, and they eventually give up trying to make a difference. Corporate innovation teams are expected to support a growing list of activities but have historically lacked strong tools designed for the job. Executives, despite having millions to invest, live in fear of disruption, and still have no idea where their “next big idea” will come from, or if it will come at all.\\n\\nAt Brightidea, we’ve built a software platform that’s solving these problems. We’ve been helping organizations be more efficient with the 1.5 trillion dollars invested in R&D annually.\\n\\nOur Company & Culture\\n\\nWe are a tight-knit, entrepreneurial minded team of self-starters who show up every day with a singular mission: to create a world where the best ideas win. Our primary focus this year is to continue to add exceptionally talented and motivated individuals to the Brightidea team. We are ambitious, bold, highly-collaborative, focused, and we aim to win. We take a humble approach to changing the way corporate R&D teams run innovation challenges.\\n\\nAnyone joining our company will have the opportunity to shape the culture and be an integral part of setting it up for long term success. If you identify with being humble, T-shaped, and relentlessly resourceful then this could be the perfect team for you to shine in.\\n\\nBrightidea believes that everyone has the ability to make a difference and that a diverse team generates more innovation and bigger ideas. Just as our product invites organizations to crowd source innovation across their workforce, Brightidea is inclusive and does not discriminate. We accept everybody.\\n'"
      ]
     },
     "execution_count": 19,
     "metadata": {},
     "output_type": "execute_result"
    }
   ],
   "source": [
    "# Display the sample job description\n",
    "jd_1"
   ]
  },
  {
   "cell_type": "code",
   "execution_count": 20,
   "metadata": {},
   "outputs": [
    {
     "data": {
      "text/plain": [
       "'People analytics is a data-driven approach to managing people at work. For the first time in history, business leaders can make decisions about their people based on deep analysis of data rather than the traditional methods of personal relationships, decision making based on experience, and risk avoidance. In this brand new course, three of Wharton’s top professors, all pioneers in the field of people analytics, will explore the state-of-the-art techniques used to recruit and retain great people, and demonstrate how these techniques are used at cutting-edge companies. They’ll explain how data and sophisticated analysis is brought to bear on people-related issues, such as recruiting, performance evaluation, leadership, hiring and promotion, job design, compensation, and collaboration. This course is an introduction to the theory of people analytics, and is not intended to prepare learners to perform complex talent management data analysis. By the end of this course, you’ll understand how and when hard data is used to make soft-skill decisions about hiring and talent development, so that you can position yourself as a strategic partner in your company’s talent management decisions. This course is intended to introduced you to Organizations flourish when the people who work in them flourish. Analytics can help make both happen. This course in People Analytics is designed to help you flourish in your career, too.'"
      ]
     },
     "execution_count": 20,
     "metadata": {},
     "output_type": "execute_result"
    }
   ],
   "source": [
    "# Display the description of the course identified as most similar\n",
    "\n",
    "course_df.loc[sim_ids[0], 'description']"
   ]
  },
  {
   "cell_type": "markdown",
   "metadata": {},
   "source": [
    "### Analysis:\n",
    "The architecture works, but the model does not appear to be very effective: Digital Product Management is definitely not the most relevant course on Coursera for the Data Scientist position at BrightIdea. Why does my model think it is? (The resoning is difficult to see just by looking at the two documents it matched together.) How can I improve the model's performance?"
   ]
  },
  {
   "cell_type": "markdown",
   "metadata": {},
   "source": [
    "## 3. Pickle the Model"
   ]
  },
  {
   "cell_type": "code",
   "execution_count": 21,
   "metadata": {},
   "outputs": [],
   "source": [
    "# Save the model to file by serializing it with the pickle library.\n",
    "\n",
    "pickle.dump(model, open('model.p', 'wb'))"
   ]
  },
  {
   "cell_type": "code",
   "execution_count": null,
   "metadata": {},
   "outputs": [],
   "source": []
  }
 ],
 "metadata": {
  "kernelspec": {
   "display_name": "Python 3",
   "language": "python",
   "name": "python3"
  },
  "language_info": {
   "codemirror_mode": {
    "name": "ipython",
    "version": 3
   },
   "file_extension": ".py",
   "mimetype": "text/x-python",
   "name": "python",
   "nbconvert_exporter": "python",
   "pygments_lexer": "ipython3",
   "version": "3.7.6"
  }
 },
 "nbformat": 4,
 "nbformat_minor": 4
}
