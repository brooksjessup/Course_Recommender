{
 "cells": [
  {
   "cell_type": "markdown",
   "metadata": {},
   "source": [
    "# Course Data EDA\n",
    "\n",
    "This notebook removes non-English language courses from the dataset as a preprocessing step for running Natural Language Processing on the data."
   ]
  },
  {
   "cell_type": "code",
   "execution_count": 24,
   "metadata": {},
   "outputs": [],
   "source": [
    "# Import libraries\n",
    "\n",
    "import pandas as pd\n",
    "from langdetect import detect"
   ]
  },
  {
   "cell_type": "code",
   "execution_count": 25,
   "metadata": {},
   "outputs": [
    {
     "name": "stdout",
     "output_type": "stream",
     "text": [
      "(4416, 10)\n"
     ]
    },
    {
     "data": {
      "text/html": [
       "<div>\n",
       "<style scoped>\n",
       "    .dataframe tbody tr th:only-of-type {\n",
       "        vertical-align: middle;\n",
       "    }\n",
       "\n",
       "    .dataframe tbody tr th {\n",
       "        vertical-align: top;\n",
       "    }\n",
       "\n",
       "    .dataframe thead th {\n",
       "        text-align: right;\n",
       "    }\n",
       "</style>\n",
       "<table border=\"1\" class=\"dataframe\">\n",
       "  <thead>\n",
       "    <tr style=\"text-align: right;\">\n",
       "      <th></th>\n",
       "      <th>courseType</th>\n",
       "      <th>description</th>\n",
       "      <th>domainTypes</th>\n",
       "      <th>id</th>\n",
       "      <th>slug</th>\n",
       "      <th>specializations</th>\n",
       "      <th>workload</th>\n",
       "      <th>primaryLanguages</th>\n",
       "      <th>certificates</th>\n",
       "      <th>name</th>\n",
       "    </tr>\n",
       "  </thead>\n",
       "  <tbody>\n",
       "    <tr>\n",
       "      <th>0</th>\n",
       "      <td>v2.ondemand</td>\n",
       "      <td>Gamification is the application of game elemen...</td>\n",
       "      <td>[{'subdomainId': 'design-and-product', 'domain...</td>\n",
       "      <td>69Bku0KoEeWZtA4u62x6lQ</td>\n",
       "      <td>gamification</td>\n",
       "      <td>[]</td>\n",
       "      <td>4-8 hours/week</td>\n",
       "      <td>['en']</td>\n",
       "      <td>['VerifiedCert']</td>\n",
       "      <td>Gamification</td>\n",
       "    </tr>\n",
       "    <tr>\n",
       "      <th>1</th>\n",
       "      <td>v2.ondemand</td>\n",
       "      <td>This course will cover the steps used in weigh...</td>\n",
       "      <td>[{'subdomainId': 'data-analysis', 'domainId': ...</td>\n",
       "      <td>0HiU7Oe4EeWTAQ4yevf_oQ</td>\n",
       "      <td>missing-data</td>\n",
       "      <td>[]</td>\n",
       "      <td>4 weeks of study, 1-2 hours/week</td>\n",
       "      <td>['en']</td>\n",
       "      <td>['VerifiedCert', 'Specialization']</td>\n",
       "      <td>Dealing With Missing Data</td>\n",
       "    </tr>\n",
       "  </tbody>\n",
       "</table>\n",
       "</div>"
      ],
      "text/plain": [
       "    courseType                                        description  \\\n",
       "0  v2.ondemand  Gamification is the application of game elemen...   \n",
       "1  v2.ondemand  This course will cover the steps used in weigh...   \n",
       "\n",
       "                                         domainTypes                      id  \\\n",
       "0  [{'subdomainId': 'design-and-product', 'domain...  69Bku0KoEeWZtA4u62x6lQ   \n",
       "1  [{'subdomainId': 'data-analysis', 'domainId': ...  0HiU7Oe4EeWTAQ4yevf_oQ   \n",
       "\n",
       "           slug specializations                          workload  \\\n",
       "0  gamification              []                    4-8 hours/week   \n",
       "1  missing-data              []  4 weeks of study, 1-2 hours/week   \n",
       "\n",
       "  primaryLanguages                        certificates  \\\n",
       "0           ['en']                    ['VerifiedCert']   \n",
       "1           ['en']  ['VerifiedCert', 'Specialization']   \n",
       "\n",
       "                        name  \n",
       "0               Gamification  \n",
       "1  Dealing With Missing Data  "
      ]
     },
     "execution_count": 25,
     "metadata": {},
     "output_type": "execute_result"
    }
   ],
   "source": [
    "# Read in the course data\n",
    "\n",
    "course_df = pd.read_csv(\"../Data/Course_Data/Coursera_Catalog.csv\")\n",
    "print(course_df.shape)\n",
    "course_df.head(2)"
   ]
  },
  {
   "cell_type": "code",
   "execution_count": 26,
   "metadata": {},
   "outputs": [
    {
     "name": "stdout",
     "output_type": "stream",
     "text": [
      "Gamification is the application of game elements and digital game design techniques to non-game problems, such as business and social impact challenges. This course will teach you the mechanisms of gamification, why it has such tremendous potential, and how to use it effectively. For additional information on the concepts described in the course, you can purchase Professor Werbach's book For the Win: How Game Thinking Can Revolutionize Your Business in print or ebook format in several languages.\n"
     ]
    },
    {
     "data": {
      "text/plain": [
       "'en'"
      ]
     },
     "execution_count": 26,
     "metadata": {},
     "output_type": "execute_result"
    }
   ],
   "source": [
    "# Test out the language detection method\n",
    "\n",
    "print(course_df['description'][0])\n",
    "detect(course_df['description'][0])"
   ]
  },
  {
   "cell_type": "code",
   "execution_count": 27,
   "metadata": {},
   "outputs": [
    {
     "data": {
      "text/plain": [
       "1230"
      ]
     },
     "execution_count": 27,
     "metadata": {},
     "output_type": "execute_result"
    }
   ],
   "source": [
    "# How many courses in the catalog are not in English?\n",
    "\n",
    "course_df['description'].apply(lambda x: detect(x) != 'en').sum()"
   ]
  },
  {
   "cell_type": "code",
   "execution_count": 28,
   "metadata": {},
   "outputs": [
    {
     "data": {
      "text/html": [
       "<div>\n",
       "<style scoped>\n",
       "    .dataframe tbody tr th:only-of-type {\n",
       "        vertical-align: middle;\n",
       "    }\n",
       "\n",
       "    .dataframe tbody tr th {\n",
       "        vertical-align: top;\n",
       "    }\n",
       "\n",
       "    .dataframe thead th {\n",
       "        text-align: right;\n",
       "    }\n",
       "</style>\n",
       "<table border=\"1\" class=\"dataframe\">\n",
       "  <thead>\n",
       "    <tr style=\"text-align: right;\">\n",
       "      <th></th>\n",
       "      <th>courseType</th>\n",
       "      <th>description</th>\n",
       "      <th>domainTypes</th>\n",
       "      <th>id</th>\n",
       "      <th>slug</th>\n",
       "      <th>specializations</th>\n",
       "      <th>workload</th>\n",
       "      <th>primaryLanguages</th>\n",
       "      <th>certificates</th>\n",
       "      <th>name</th>\n",
       "    </tr>\n",
       "  </thead>\n",
       "  <tbody>\n",
       "    <tr>\n",
       "      <th>6</th>\n",
       "      <td>v2.ondemand</td>\n",
       "      <td>Datenpipelines folgen in der Regel dem Muster ...</td>\n",
       "      <td>[{'subdomainId': 'cloud-computing', 'domainId'...</td>\n",
       "      <td>i9sAgHJaEeqScBK87oSN6Q</td>\n",
       "      <td>batch-data-pipelines-gcp-de</td>\n",
       "      <td>[]</td>\n",
       "      <td>NaN</td>\n",
       "      <td>['de']</td>\n",
       "      <td>['VerifiedCert']</td>\n",
       "      <td>Building Batch Data Pipelines on GCP auf Deutsch</td>\n",
       "    </tr>\n",
       "    <tr>\n",
       "      <th>19</th>\n",
       "      <td>v2.ondemand</td>\n",
       "      <td>Этот курс посвящен ключевым проблемам современ...</td>\n",
       "      <td>[{'domainId': 'physical-science-and-engineerin...</td>\n",
       "      <td>opX5uCGvEearhhL0e-FIDw</td>\n",
       "      <td>astrofizika</td>\n",
       "      <td>[]</td>\n",
       "      <td>NaN</td>\n",
       "      <td>['ru']</td>\n",
       "      <td>['VerifiedCert']</td>\n",
       "      <td>Астрофизика: от звезд до границ Вселенной</td>\n",
       "    </tr>\n",
       "    <tr>\n",
       "      <th>20</th>\n",
       "      <td>v2.ondemand</td>\n",
       "      <td>剪辑台前，剪辑师就像厨师对待食材一样，摆弄着拍摄现场记录下来的影像片段，用影像和声音去捕捉线...</td>\n",
       "      <td>[{'domainId': 'arts-and-humanities', 'subdomai...</td>\n",
       "      <td>rajsT7UJEeWl_hJObLDVwQ</td>\n",
       "      <td>jian-ji</td>\n",
       "      <td>[]</td>\n",
       "      <td>5 周课程, 2-4 小时/周</td>\n",
       "      <td>['zh-CN']</td>\n",
       "      <td>['VerifiedCert', 'Specialization']</td>\n",
       "      <td>剪辑：像编剧一样剪辑</td>\n",
       "    </tr>\n",
       "    <tr>\n",
       "      <th>23</th>\n",
       "      <td>v2.ondemand</td>\n",
       "      <td>人文學，其特色在於「慢熱」，需要耐心細嚐、咀嚼古聖先賢的智慧結晶與其文字背後所隱含的真正意義...</td>\n",
       "      <td>[{'domainId': 'arts-and-humanities', 'subdomai...</td>\n",
       "      <td>YGjPHOZYEeWGngqV7V698w</td>\n",
       "      <td>shiji</td>\n",
       "      <td>[]</td>\n",
       "      <td>NaN</td>\n",
       "      <td>['zh-TW']</td>\n",
       "      <td>['VerifiedCert']</td>\n",
       "      <td>史記 (Shi Ji)</td>\n",
       "    </tr>\n",
       "    <tr>\n",
       "      <th>25</th>\n",
       "      <td>v2.ondemand</td>\n",
       "      <td>En este curso, a través de una combinación de ...</td>\n",
       "      <td>[{'subdomainId': 'support-and-operations', 'do...</td>\n",
       "      <td>_ZxqNTbOEembfg4BAtxdIA</td>\n",
       "      <td>sistemas-operativos</td>\n",
       "      <td>[]</td>\n",
       "      <td>8 - 10 horas por semana</td>\n",
       "      <td>['es']</td>\n",
       "      <td>['VerifiedCert', 'Specialization']</td>\n",
       "      <td>Sistemas operativos y tú: Convertirse en un us...</td>\n",
       "    </tr>\n",
       "  </tbody>\n",
       "</table>\n",
       "</div>"
      ],
      "text/plain": [
       "     courseType                                        description  \\\n",
       "6   v2.ondemand  Datenpipelines folgen in der Regel dem Muster ...   \n",
       "19  v2.ondemand  Этот курс посвящен ключевым проблемам современ...   \n",
       "20  v2.ondemand  剪辑台前，剪辑师就像厨师对待食材一样，摆弄着拍摄现场记录下来的影像片段，用影像和声音去捕捉线...   \n",
       "23  v2.ondemand  人文學，其特色在於「慢熱」，需要耐心細嚐、咀嚼古聖先賢的智慧結晶與其文字背後所隱含的真正意義...   \n",
       "25  v2.ondemand  En este curso, a través de una combinación de ...   \n",
       "\n",
       "                                          domainTypes                      id  \\\n",
       "6   [{'subdomainId': 'cloud-computing', 'domainId'...  i9sAgHJaEeqScBK87oSN6Q   \n",
       "19  [{'domainId': 'physical-science-and-engineerin...  opX5uCGvEearhhL0e-FIDw   \n",
       "20  [{'domainId': 'arts-and-humanities', 'subdomai...  rajsT7UJEeWl_hJObLDVwQ   \n",
       "23  [{'domainId': 'arts-and-humanities', 'subdomai...  YGjPHOZYEeWGngqV7V698w   \n",
       "25  [{'subdomainId': 'support-and-operations', 'do...  _ZxqNTbOEembfg4BAtxdIA   \n",
       "\n",
       "                           slug specializations                 workload  \\\n",
       "6   batch-data-pipelines-gcp-de              []                      NaN   \n",
       "19                  astrofizika              []                      NaN   \n",
       "20                      jian-ji              []          5 周课程, 2-4 小时/周   \n",
       "23                        shiji              []                      NaN   \n",
       "25          sistemas-operativos              []  8 - 10 horas por semana   \n",
       "\n",
       "   primaryLanguages                        certificates  \\\n",
       "6            ['de']                    ['VerifiedCert']   \n",
       "19           ['ru']                    ['VerifiedCert']   \n",
       "20        ['zh-CN']  ['VerifiedCert', 'Specialization']   \n",
       "23        ['zh-TW']                    ['VerifiedCert']   \n",
       "25           ['es']  ['VerifiedCert', 'Specialization']   \n",
       "\n",
       "                                                 name  \n",
       "6    Building Batch Data Pipelines on GCP auf Deutsch  \n",
       "19          Астрофизика: от звезд до границ Вселенной  \n",
       "20                                         剪辑：像编剧一样剪辑  \n",
       "23                                        史記 (Shi Ji)  \n",
       "25  Sistemas operativos y tú: Convertirse en un us...  "
      ]
     },
     "execution_count": 28,
     "metadata": {},
     "output_type": "execute_result"
    }
   ],
   "source": [
    "# Examine some examples of non-English courses\n",
    "\n",
    "course_df.loc[course_df['description'].apply(lambda x: detect(x) != 'en')].head(5)"
   ]
  },
  {
   "cell_type": "code",
   "execution_count": 29,
   "metadata": {},
   "outputs": [
    {
     "name": "stdout",
     "output_type": "stream",
     "text": [
      "(3185, 10)\n"
     ]
    }
   ],
   "source": [
    "# Exclude non-English courses from the dataset\n",
    "\n",
    "course_df = course_df.loc[course_df['description'].apply(lambda x: detect(x) == 'en')]\n",
    "print(course_df.shape)"
   ]
  },
  {
   "cell_type": "code",
   "execution_count": 30,
   "metadata": {},
   "outputs": [],
   "source": [
    "# Export the cleaned dataset to a csv file for modeling.\n",
    "\n",
    "course_df.to_csv('../Data/Course_Data/Coursera_Catalog_English.csv', index=False)"
   ]
  }
 ],
 "metadata": {
  "kernelspec": {
   "display_name": "Python 3",
   "language": "python",
   "name": "python3"
  },
  "language_info": {
   "codemirror_mode": {
    "name": "ipython",
    "version": 3
   },
   "file_extension": ".py",
   "mimetype": "text/x-python",
   "name": "python",
   "nbconvert_exporter": "python",
   "pygments_lexer": "ipython3",
   "version": "3.7.6"
  }
 },
 "nbformat": 4,
 "nbformat_minor": 4
}
