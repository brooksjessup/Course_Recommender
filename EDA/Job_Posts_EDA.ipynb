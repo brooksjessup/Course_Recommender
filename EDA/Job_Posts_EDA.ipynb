{
 "cells": [
  {
   "cell_type": "markdown",
   "metadata": {},
   "source": [
    "The purpose of this notebook is to perform EDA on the job postings data."
   ]
  },
  {
   "cell_type": "code",
   "execution_count": 1,
   "metadata": {},
   "outputs": [],
   "source": [
    "# Import libraries\n",
    "\n",
    "import pandas as pd"
   ]
  },
  {
   "cell_type": "code",
   "execution_count": 2,
   "metadata": {},
   "outputs": [
    {
     "name": "stdout",
     "output_type": "stream",
     "text": [
      "(3324, 12)\n"
     ]
    },
    {
     "data": {
      "text/html": [
       "<div>\n",
       "<style scoped>\n",
       "    .dataframe tbody tr th:only-of-type {\n",
       "        vertical-align: middle;\n",
       "    }\n",
       "\n",
       "    .dataframe tbody tr th {\n",
       "        vertical-align: top;\n",
       "    }\n",
       "\n",
       "    .dataframe thead th {\n",
       "        text-align: right;\n",
       "    }\n",
       "</style>\n",
       "<table border=\"1\" class=\"dataframe\">\n",
       "  <thead>\n",
       "    <tr style=\"text-align: right;\">\n",
       "      <th></th>\n",
       "      <th>Job_title</th>\n",
       "      <th>Company</th>\n",
       "      <th>State</th>\n",
       "      <th>City</th>\n",
       "      <th>Min_Salary</th>\n",
       "      <th>Max_Salary</th>\n",
       "      <th>Job_Desc</th>\n",
       "      <th>Industry</th>\n",
       "      <th>Rating</th>\n",
       "      <th>Date_Posted</th>\n",
       "      <th>Valid_until</th>\n",
       "      <th>Job_Type</th>\n",
       "    </tr>\n",
       "  </thead>\n",
       "  <tbody>\n",
       "    <tr>\n",
       "      <th>0</th>\n",
       "      <td>Chief Marketing Officer (CMO)</td>\n",
       "      <td>National Debt Relief</td>\n",
       "      <td>NY</td>\n",
       "      <td>New York</td>\n",
       "      <td>-1</td>\n",
       "      <td>-1</td>\n",
       "      <td>Who We're Looking For:\\n\\nThe Chief Marketing ...</td>\n",
       "      <td>Finance</td>\n",
       "      <td>4.0</td>\n",
       "      <td>2020-05-08</td>\n",
       "      <td>2020-06-07</td>\n",
       "      <td>FULL_TIME</td>\n",
       "    </tr>\n",
       "    <tr>\n",
       "      <th>1</th>\n",
       "      <td>Registered Nurse</td>\n",
       "      <td>Queens Boulevard Endoscopy Center</td>\n",
       "      <td>NY</td>\n",
       "      <td>Rego Park</td>\n",
       "      <td>-1</td>\n",
       "      <td>-1</td>\n",
       "      <td>Queens Boulevard Endoscopy Center, an endoscop...</td>\n",
       "      <td>NaN</td>\n",
       "      <td>3.0</td>\n",
       "      <td>2020-04-25</td>\n",
       "      <td>2020-06-07</td>\n",
       "      <td>FULL_TIME</td>\n",
       "    </tr>\n",
       "    <tr>\n",
       "      <th>2</th>\n",
       "      <td>Dental Hygienist</td>\n",
       "      <td>Batista Dental</td>\n",
       "      <td>NJ</td>\n",
       "      <td>West New York</td>\n",
       "      <td>-1</td>\n",
       "      <td>-1</td>\n",
       "      <td>Part-time or Full-timedental hygienist positio...</td>\n",
       "      <td>NaN</td>\n",
       "      <td>NaN</td>\n",
       "      <td>2020-05-02</td>\n",
       "      <td>2020-06-07</td>\n",
       "      <td>PART_TIME</td>\n",
       "    </tr>\n",
       "    <tr>\n",
       "      <th>3</th>\n",
       "      <td>Senior Salesforce Developer</td>\n",
       "      <td>National Debt Relief</td>\n",
       "      <td>NY</td>\n",
       "      <td>New York</td>\n",
       "      <td>44587</td>\n",
       "      <td>82162</td>\n",
       "      <td>Principle Duties &amp; Responsibilities:\\n\\nAnalyz...</td>\n",
       "      <td>Finance</td>\n",
       "      <td>4.0</td>\n",
       "      <td>2020-05-08</td>\n",
       "      <td>2020-06-07</td>\n",
       "      <td>FULL_TIME</td>\n",
       "    </tr>\n",
       "    <tr>\n",
       "      <th>4</th>\n",
       "      <td>DEPUTY EXECUTIVE DIRECTOR, PROGRAM AND LEGAL A...</td>\n",
       "      <td>National Advocates for Pregnant Women</td>\n",
       "      <td>NY</td>\n",
       "      <td>New York</td>\n",
       "      <td>125410</td>\n",
       "      <td>212901</td>\n",
       "      <td>For FULL Job Announcement, visit our website: ...</td>\n",
       "      <td>NaN</td>\n",
       "      <td>NaN</td>\n",
       "      <td>2020-04-28</td>\n",
       "      <td>2020-06-07</td>\n",
       "      <td>FULL_TIME</td>\n",
       "    </tr>\n",
       "  </tbody>\n",
       "</table>\n",
       "</div>"
      ],
      "text/plain": [
       "                                           Job_title  \\\n",
       "0                      Chief Marketing Officer (CMO)   \n",
       "1                                   Registered Nurse   \n",
       "2                                   Dental Hygienist   \n",
       "3                        Senior Salesforce Developer   \n",
       "4  DEPUTY EXECUTIVE DIRECTOR, PROGRAM AND LEGAL A...   \n",
       "\n",
       "                                 Company State           City  Min_Salary  \\\n",
       "0                   National Debt Relief    NY       New York          -1   \n",
       "1      Queens Boulevard Endoscopy Center    NY      Rego Park          -1   \n",
       "2                         Batista Dental    NJ  West New York          -1   \n",
       "3                   National Debt Relief    NY       New York       44587   \n",
       "4  National Advocates for Pregnant Women    NY       New York      125410   \n",
       "\n",
       "   Max_Salary                                           Job_Desc Industry  \\\n",
       "0          -1  Who We're Looking For:\\n\\nThe Chief Marketing ...  Finance   \n",
       "1          -1  Queens Boulevard Endoscopy Center, an endoscop...      NaN   \n",
       "2          -1  Part-time or Full-timedental hygienist positio...      NaN   \n",
       "3       82162  Principle Duties & Responsibilities:\\n\\nAnalyz...  Finance   \n",
       "4      212901  For FULL Job Announcement, visit our website: ...      NaN   \n",
       "\n",
       "   Rating Date_Posted Valid_until   Job_Type  \n",
       "0     4.0  2020-05-08  2020-06-07  FULL_TIME  \n",
       "1     3.0  2020-04-25  2020-06-07  FULL_TIME  \n",
       "2     NaN  2020-05-02  2020-06-07  PART_TIME  \n",
       "3     4.0  2020-05-08  2020-06-07  FULL_TIME  \n",
       "4     NaN  2020-04-28  2020-06-07  FULL_TIME  "
      ]
     },
     "execution_count": 2,
     "metadata": {},
     "output_type": "execute_result"
    }
   ],
   "source": [
    "# Read in the dataset\n",
    "\n",
    "df = pd.read_csv('../Data/Job_Data/Glassdoor_Joblist.csv')\n",
    "print(df.shape)\n",
    "df.head()"
   ]
  },
  {
   "cell_type": "code",
   "execution_count": 3,
   "metadata": {},
   "outputs": [
    {
     "data": {
      "text/plain": [
       "Job_title        0\n",
       "Company          0\n",
       "State            2\n",
       "City             6\n",
       "Min_Salary       0\n",
       "Max_Salary       0\n",
       "Job_Desc         0\n",
       "Industry       624\n",
       "Rating         475\n",
       "Date_Posted      0\n",
       "Valid_until      0\n",
       "Job_Type         0\n",
       "dtype: int64"
      ]
     },
     "execution_count": 3,
     "metadata": {},
     "output_type": "execute_result"
    }
   ],
   "source": [
    "# Check for missing values:\n",
    "# No missing values in key columns of job title and description.\n",
    "\n",
    "df.isna().sum()"
   ]
  },
  {
   "cell_type": "code",
   "execution_count": 11,
   "metadata": {},
   "outputs": [
    {
     "data": {
      "text/plain": [
       "Data Scientist                                   186\n",
       "Data Engineer                                    129\n",
       "Data Analyst                                      69\n",
       "Senior Data Engineer                              44\n",
       "Senior Data Scientist                             39\n",
       "                                                ... \n",
       "Data Engineer with Pyspark                         1\n",
       "Business Analytics Manager                         1\n",
       "Data Engineer / Data Scientist                     1\n",
       "Part Time Data Science Instructor                  1\n",
       "Senior Machine Learning and AI Data Scientist      1\n",
       "Name: Job_title, Length: 1619, dtype: int64"
      ]
     },
     "execution_count": 11,
     "metadata": {},
     "output_type": "execute_result"
    }
   ],
   "source": [
    "# Examine the key category of job title:\n",
    "# might need to consolidate these; leave it for now...\n",
    "\n",
    "df['Job_title'].value_counts()"
   ]
  },
  {
   "cell_type": "code",
   "execution_count": 15,
   "metadata": {},
   "outputs": [
    {
     "data": {
      "text/plain": [
       "'Queens Boulevard Endoscopy Center, an endoscopy ASC located in Rego Park, has an exciting opportunity for Full-Time Registered Nurse! Successful candidates will provide quality nursing care in all areas of the Center including pre-assessment, pre-op and pacu  Qualified candidates must possess the following:\\n\\nCurrent NY state RN license\\nBLS Certification, ACLS preferred\\nMust be a team-player with excellent multi-tasking and interpersonal skills\\nCompassion for patient needs and a high degree of professionalism\\nChinese Speaking and Spanish Preferred\\n\\nQueens Boulevard Endoscopy Center offers a pleasant professional work environment and no evening or holiday work hours. Drug-free work environment and EOE.'"
      ]
     },
     "execution_count": 15,
     "metadata": {},
     "output_type": "execute_result"
    }
   ],
   "source": [
    "# Examine an example of a job description:\n",
    "# Other than \\n line breaks, the text is pretty clean.\n",
    "\n",
    "df['Job_Desc'][1]"
   ]
  },
  {
   "cell_type": "code",
   "execution_count": null,
   "metadata": {},
   "outputs": [],
   "source": [
    "# Check for duplicates!!!"
   ]
  }
 ],
 "metadata": {
  "kernelspec": {
   "display_name": "Python 3",
   "language": "python",
   "name": "python3"
  },
  "language_info": {
   "codemirror_mode": {
    "name": "ipython",
    "version": 3
   },
   "file_extension": ".py",
   "mimetype": "text/x-python",
   "name": "python",
   "nbconvert_exporter": "python",
   "pygments_lexer": "ipython3",
   "version": "3.7.6"
  }
 },
 "nbformat": 4,
 "nbformat_minor": 4
}
