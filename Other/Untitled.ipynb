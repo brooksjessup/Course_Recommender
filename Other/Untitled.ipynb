{
 "cells": [
  {
   "cell_type": "code",
   "execution_count": 1,
   "metadata": {},
   "outputs": [],
   "source": [
    "import pandas as pd"
   ]
  },
  {
   "cell_type": "code",
   "execution_count": 2,
   "metadata": {},
   "outputs": [],
   "source": [
    "df = pd.read_csv('../Data/Job_Data/Glassdoor_Joblist.csv')"
   ]
  },
  {
   "cell_type": "code",
   "execution_count": 3,
   "metadata": {},
   "outputs": [
    {
     "data": {
      "text/html": [
       "<div>\n",
       "<style scoped>\n",
       "    .dataframe tbody tr th:only-of-type {\n",
       "        vertical-align: middle;\n",
       "    }\n",
       "\n",
       "    .dataframe tbody tr th {\n",
       "        vertical-align: top;\n",
       "    }\n",
       "\n",
       "    .dataframe thead th {\n",
       "        text-align: right;\n",
       "    }\n",
       "</style>\n",
       "<table border=\"1\" class=\"dataframe\">\n",
       "  <thead>\n",
       "    <tr style=\"text-align: right;\">\n",
       "      <th></th>\n",
       "      <th>Job_title</th>\n",
       "      <th>Company</th>\n",
       "      <th>State</th>\n",
       "      <th>City</th>\n",
       "      <th>Min_Salary</th>\n",
       "      <th>Max_Salary</th>\n",
       "      <th>Job_Desc</th>\n",
       "      <th>Industry</th>\n",
       "      <th>Rating</th>\n",
       "      <th>Date_Posted</th>\n",
       "      <th>Valid_until</th>\n",
       "      <th>Job_Type</th>\n",
       "    </tr>\n",
       "  </thead>\n",
       "  <tbody>\n",
       "    <tr>\n",
       "      <th>0</th>\n",
       "      <td>Chief Marketing Officer (CMO)</td>\n",
       "      <td>National Debt Relief</td>\n",
       "      <td>NY</td>\n",
       "      <td>New York</td>\n",
       "      <td>-1</td>\n",
       "      <td>-1</td>\n",
       "      <td>Who We're Looking For:\\n\\nThe Chief Marketing ...</td>\n",
       "      <td>Finance</td>\n",
       "      <td>4.0</td>\n",
       "      <td>2020-05-08</td>\n",
       "      <td>2020-06-07</td>\n",
       "      <td>FULL_TIME</td>\n",
       "    </tr>\n",
       "    <tr>\n",
       "      <th>1</th>\n",
       "      <td>Registered Nurse</td>\n",
       "      <td>Queens Boulevard Endoscopy Center</td>\n",
       "      <td>NY</td>\n",
       "      <td>Rego Park</td>\n",
       "      <td>-1</td>\n",
       "      <td>-1</td>\n",
       "      <td>Queens Boulevard Endoscopy Center, an endoscop...</td>\n",
       "      <td>NaN</td>\n",
       "      <td>3.0</td>\n",
       "      <td>2020-04-25</td>\n",
       "      <td>2020-06-07</td>\n",
       "      <td>FULL_TIME</td>\n",
       "    </tr>\n",
       "  </tbody>\n",
       "</table>\n",
       "</div>"
      ],
      "text/plain": [
       "                       Job_title                            Company State  \\\n",
       "0  Chief Marketing Officer (CMO)               National Debt Relief    NY   \n",
       "1               Registered Nurse  Queens Boulevard Endoscopy Center    NY   \n",
       "\n",
       "        City  Min_Salary  Max_Salary  \\\n",
       "0   New York          -1          -1   \n",
       "1  Rego Park          -1          -1   \n",
       "\n",
       "                                            Job_Desc Industry  Rating  \\\n",
       "0  Who We're Looking For:\\n\\nThe Chief Marketing ...  Finance     4.0   \n",
       "1  Queens Boulevard Endoscopy Center, an endoscop...      NaN     3.0   \n",
       "\n",
       "  Date_Posted Valid_until   Job_Type  \n",
       "0  2020-05-08  2020-06-07  FULL_TIME  \n",
       "1  2020-04-25  2020-06-07  FULL_TIME  "
      ]
     },
     "execution_count": 3,
     "metadata": {},
     "output_type": "execute_result"
    }
   ],
   "source": [
    "df.head(2)"
   ]
  },
  {
   "cell_type": "code",
   "execution_count": 18,
   "metadata": {},
   "outputs": [
    {
     "data": {
      "text/plain": [
       "Job_title                                         Data Scientist\n",
       "Company                                                  Upstart\n",
       "State                                                         CA\n",
       "City                                                   San Mateo\n",
       "Min_Salary                                                124204\n",
       "Max_Salary                                                139717\n",
       "Job_Desc       Upstart is the leading AI lending platform par...\n",
       "Industry                                                 Finance\n",
       "Rating                                                         4\n",
       "Date_Posted                                           2020-04-24\n",
       "Valid_until                                           2020-06-05\n",
       "Job_Type                                               FULL_TIME\n",
       "Name: 920, dtype: object"
      ]
     },
     "execution_count": 18,
     "metadata": {},
     "output_type": "execute_result"
    }
   ],
   "source": [
    "df.iloc[920]"
   ]
  },
  {
   "cell_type": "code",
   "execution_count": 17,
   "metadata": {},
   "outputs": [
    {
     "data": {
      "text/plain": [
       "'Upstart is the leading AI lending platform partnering with banks to expand access to affordable credit. Forbes recently ranked Upstart #12 on its list of \"most promising AI companies in America.\" By leveraging Upstart\\'s AI platform, Upstart-powered banks can have higher approval rates and lower loss rates, while simultaneously delivering the exceptional digital-first lending experience their customers demand. Upstart\\'s patent-pending platform is the first to receive a no-action letter from the Consumer Financial Protection Bureau related to fair lending. Upstart is based in San Mateo, California and Columbus, Ohio.\\n\\nThe Role\\n\\nOur data science team consists of full-stack generalists as well as specialists in statistical modeling or machine learning. Because our challenges are so new, data scientists at Upstart need strong creative problem-solving skills and the technical background to implement solutions. Our research environment affords team members the opportunity to utilize a variety of statistical and machine learning methods with the freedom and encouragement to pursue alternative approaches to solving problems. Whether developing new products or identifying novel approaches to core models, we are continuously seeking the next big ideas to move our business forward.\\n\\nOur current Data Scientists summarize some of their favorite aspects of our team as:\\n\\n\\nHaving a direct impact on the company\\'s success\\nCollaborative, intelligent and open team\\nMentorship, growth and friendship\\nLeaders committed to challenging and growing team members\\nFeeling safe asking for help when it\\'s necessary; feeling trusted to get the job done when it\\'s not\\n\\nHiring Profile\\n\\nStrong academic credentials with a M.S. in Computer Science, Statistics, Data Science or a related field of study with a preference for Ph.D.\\nComfort with programming (ideally in Python and R)\\nRigorous quantitative background\\nPredictive modeling experience is preferred\\nEnthusiasm for and alignment with Upstart\\'s mission and values\\nStrong sense of intellectual curiosity balanced with humility\\nNumerically-savvy with ability to operate at a speedy pace\\n\\nMost Upstarters join us because they connect with our mission of enabling access to effortless credit based on true risk. If you are energized by the impact you can make at Upstart, we would love to hear from you!'"
      ]
     },
     "execution_count": 17,
     "metadata": {},
     "output_type": "execute_result"
    }
   ],
   "source": [
    "df.iloc[920]['Job_Desc']"
   ]
  },
  {
   "cell_type": "code",
   "execution_count": null,
   "metadata": {},
   "outputs": [],
   "source": []
  }
 ],
 "metadata": {
  "kernelspec": {
   "display_name": "Python 3",
   "language": "python",
   "name": "python3"
  },
  "language_info": {
   "codemirror_mode": {
    "name": "ipython",
    "version": 3
   },
   "file_extension": ".py",
   "mimetype": "text/x-python",
   "name": "python",
   "nbconvert_exporter": "python",
   "pygments_lexer": "ipython3",
   "version": "3.7.6"
  }
 },
 "nbformat": 4,
 "nbformat_minor": 4
}
